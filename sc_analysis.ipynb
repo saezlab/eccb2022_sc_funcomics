{
 "cells": [
  {
   "cell_type": "markdown",
   "id": "99156c16-ca8e-4d78-9fb1-28906c9d987e",
   "metadata": {},
   "source": [
    "# Functional analysis of single-cell transcriptomics: part one\n",
    "\n",
    "# introduce what single cell and transcriptomics are\n",
    "\n",
    "# Introduce dataset\n"
   ]
  },
  {
   "cell_type": "markdown",
   "id": "7f1987cc-198a-4b3e-badc-af698004610b",
   "metadata": {},
   "source": [
    "## Loading packages\n",
    "\n",
    "First, we need to load the relevant packages, `scanpy` to handle scRNA-seq data and decoupler to use statistical methods."
   ]
  },
  {
   "cell_type": "code",
   "execution_count": 2,
   "id": "bdb85cde-e94a-4b2d-805f-1ddfc0090eef",
   "metadata": {},
   "outputs": [],
   "source": [
    "import scanpy as sc\n",
    "import scanpy.external as sce\n",
    "import decoupler as dc\n",
    "\n",
    "# Only needed for processing and plotting\n",
    "import os\n",
    "import numpy as np\n",
    "import pandas as pd\n",
    "import matplotlib.pyplot as plt\n",
    "import seaborn as sns"
   ]
  },
  {
   "cell_type": "code",
   "execution_count": 3,
   "id": "9b9b2f0e-7cb1-4beb-a162-6c35e978c0bc",
   "metadata": {},
   "outputs": [
    {
     "data": {
      "text/html": [
       "<div>\n",
       "<style scoped>\n",
       "    .dataframe tbody tr th:only-of-type {\n",
       "        vertical-align: middle;\n",
       "    }\n",
       "\n",
       "    .dataframe tbody tr th {\n",
       "        vertical-align: top;\n",
       "    }\n",
       "\n",
       "    .dataframe thead th {\n",
       "        text-align: right;\n",
       "    }\n",
       "</style>\n",
       "<table border=\"1\" class=\"dataframe\">\n",
       "  <thead>\n",
       "    <tr style=\"text-align: right;\">\n",
       "      <th></th>\n",
       "      <th>condition</th>\n",
       "    </tr>\n",
       "  </thead>\n",
       "  <tbody>\n",
       "    <tr>\n",
       "      <th>control_a</th>\n",
       "      <td>control</td>\n",
       "    </tr>\n",
       "    <tr>\n",
       "      <th>control_b</th>\n",
       "      <td>control</td>\n",
       "    </tr>\n",
       "    <tr>\n",
       "      <th>control_c</th>\n",
       "      <td>control</td>\n",
       "    </tr>\n",
       "    <tr>\n",
       "      <th>covid_d</th>\n",
       "      <td>covid</td>\n",
       "    </tr>\n",
       "    <tr>\n",
       "      <th>covid_e</th>\n",
       "      <td>covid</td>\n",
       "    </tr>\n",
       "    <tr>\n",
       "      <th>covid_f</th>\n",
       "      <td>covid</td>\n",
       "    </tr>\n",
       "  </tbody>\n",
       "</table>\n",
       "</div>"
      ],
      "text/plain": [
       "          condition\n",
       "control_a   control\n",
       "control_b   control\n",
       "control_c   control\n",
       "covid_d       covid\n",
       "covid_e       covid\n",
       "covid_f       covid"
      ]
     },
     "execution_count": 3,
     "metadata": {},
     "output_type": "execute_result"
    }
   ],
   "source": [
    "metadata = pd.DataFrame([\n",
    "    ['control'],\n",
    "    ['control'],\n",
    "    ['control'],\n",
    "    ['covid'],\n",
    "    ['covid'],\n",
    "    ['covid']],\n",
    "    columns=['condition'],\n",
    "    index=['control_a', 'control_b', 'control_c', 'covid_d', 'covid_e', 'covid_f']\n",
    ")\n",
    "metadata"
   ]
  },
  {
   "cell_type": "code",
   "execution_count": null,
   "id": "3e62e76c-63da-4b3b-8759-c4726c6ac880",
   "metadata": {},
   "outputs": [],
   "source": []
  },
  {
   "cell_type": "markdown",
   "id": "9931f292-0ff6-42a4-aadb-bd299e91aead",
   "metadata": {},
   "source": [
    "Read 10x-Genomics-formatted mtx directory obtained from running the aligment tool called CellRanger to obtain an `AnnData` object:"
   ]
  },
  {
   "cell_type": "code",
   "execution_count": null,
   "id": "088205be-db39-439a-ba90-a6793e951917",
   "metadata": {},
   "outputs": [],
   "source": [
    "adata = sc.read_10x_mtx('data/covid_e')\n",
    "adata"
   ]
  },
  {
   "cell_type": "markdown",
   "id": "e240d87e-e3ae-40b5-8ab2-cac66a957201",
   "metadata": {},
   "source": [
    "Inside an `AnnData` object we have different attributes, here are the most important ones:\n",
    "* X: This is where the main assay is stored. At the beginning here are the raw integer gene counts\n",
    "* obs: Metadata dataframe for cells (rows)\n",
    "* var: Metadata dataframe for genes (columns)\n",
    "* layers: Other assays with the same dimensions than X\n",
    "\n",
    "You can read more about it in the official [documentation](https://anndata.readthedocs.io/en/latest/index.html)"
   ]
  },
  {
   "cell_type": "markdown",
   "id": "cb99cab2-481c-402e-bfd4-4f1f712a083a",
   "metadata": {},
   "source": [
    "<img src=\"https://anndata.readthedocs.io/en/latest/_images/anndata_schema.svg\"\n",
    "     width=\"400\" \n",
    "     height=\"500\" />"
   ]
  },
  {
   "cell_type": "markdown",
   "id": "2dac2c28-790c-4ee6-8222-0a622186c320",
   "metadata": {},
   "source": [
    "To visualize the cell metadata run:"
   ]
  },
  {
   "cell_type": "code",
   "execution_count": null,
   "id": "a8b3cf71-1794-4ef3-b613-4230a76cd48b",
   "metadata": {},
   "outputs": [],
   "source": [
    "adata.obs"
   ]
  },
  {
   "cell_type": "markdown",
   "id": "214d85f7-272e-4532-b7a8-08759d435298",
   "metadata": {},
   "source": [
    "For the gene metadata:"
   ]
  },
  {
   "cell_type": "code",
   "execution_count": null,
   "id": "7ac873ed-8540-4b09-aa3c-07dad9a6c306",
   "metadata": {},
   "outputs": [],
   "source": [
    "adata.var"
   ]
  },
  {
   "cell_type": "markdown",
   "id": "b79772c5-8a74-464b-8baa-022eea0132aa",
   "metadata": {},
   "source": [
    "And the expression matrix (in sparse format to save memory):"
   ]
  },
  {
   "cell_type": "code",
   "execution_count": null,
   "id": "b4e3c198-76eb-4993-90d5-08491285f9c0",
   "metadata": {},
   "outputs": [],
   "source": [
    "adata.X"
   ]
  },
  {
   "cell_type": "markdown",
   "id": "a215ff06-6188-4e52-b0ee-16ff0807117e",
   "metadata": {},
   "source": [
    "## Quality Control (QC)"
   ]
  },
  {
   "cell_type": "markdown",
   "id": "f34ecaad-9114-4020-b052-58053f71f0cc",
   "metadata": {},
   "source": [
    "Before analysing the single-cell gene expression data, we must ensure that all cellular barcode data correspond to viable cells.\n",
    "\n",
    "First we need to apply a basic filtering where we remove cells (rows) with few expressed genes and genes (columns) with that are\n",
    "expressed in few cells."
   ]
  },
  {
   "cell_type": "code",
   "execution_count": null,
   "id": "2da3865b-b2e1-48fd-abae-9157777bd129",
   "metadata": {},
   "outputs": [],
   "source": [
    "# Basic filtering\n",
    "sc.pp.filter_cells(adata, min_genes=200)\n",
    "sc.pp.filter_genes(adata, min_cells=3)"
   ]
  },
  {
   "cell_type": "markdown",
   "id": "793b6538-ec98-40ac-98c2-f91247d98b69",
   "metadata": {},
   "source": [
    "We can then compute quality control (QC) metrics:\n",
    "\n",
    "* `total_counts`: Total number of UMI counts for each cell. Cells with big values might be doublets*\n",
    "* `pct_counts_mt`: Percentage of expressed genes that are mitocondrial. A high percentage might indicate cell death\n",
    "* `n_genes_by_counts`: Number of genes that have at least one UMI count. A low value means that the cell is empty\n",
    "\n",
    "*Doublets (or multiplets) arise in scRNA-seq data when two (or more) cells are mistakenly considered as a single cell, due for instance to being captured and processed in the same droplet on a micro-fluidics device."
   ]
  },
  {
   "cell_type": "code",
   "execution_count": null,
   "id": "067233e3-8225-40c0-9c0f-c7934ab564d3",
   "metadata": {},
   "outputs": [],
   "source": [
    "# Compute QC metrics\n",
    "adata.var['mt'] = adata.var_names.str.startswith('MT-')\n",
    "sc.pp.calculate_qc_metrics(adata, qc_vars=['mt'], percent_top=None, log1p=False, inplace=True)"
   ]
  },
  {
   "cell_type": "markdown",
   "id": "4be84baa-56a5-42dd-b2a8-5c928b8ddba9",
   "metadata": {},
   "source": [
    "We can easly plot these metrics into scatterplots:"
   ]
  },
  {
   "cell_type": "code",
   "execution_count": null,
   "id": "7e39569c-127b-4f42-836b-87daee2fa79f",
   "metadata": {},
   "outputs": [],
   "source": [
    "sc.pl.scatter(adata, x='total_counts', y='pct_counts_mt')\n",
    "sc.pl.scatter(adata, x='total_counts', y='n_genes_by_counts')"
   ]
  },
  {
   "cell_type": "markdown",
   "id": "e95dbca9-b870-4f4e-b9ff-862b463d1c6f",
   "metadata": {},
   "source": [
    "There seem to be some cells with higher levels of mitoconrial genes, we should remove them since these cells are not very\n",
    "informative.\n",
    "\n",
    "Moreover, it is always good to trim cells with too much number of genes expressed (`n_genes_by_counts`) because\n",
    "most probably they are doublets.\n",
    "\n",
    "We can filter our object based on these criteria:"
   ]
  },
  {
   "cell_type": "code",
   "execution_count": null,
   "id": "94e623b5-b2c0-4191-9a53-e393be36dde6",
   "metadata": {},
   "outputs": [],
   "source": [
    "# Filter cells\n",
    "adata = adata[(adata.obs.n_genes_by_counts < 5000) & (adata.obs.n_genes_by_counts > 500), :]\n",
    "adata = adata[adata.obs.pct_counts_mt < 15, :]\n",
    "adata"
   ]
  },
  {
   "cell_type": "markdown",
   "id": "7a62033c-141b-40ee-bb03-b34083a9ad91",
   "metadata": {},
   "source": [
    "With our current relaxed filtering strategy we might still have doublets in our data which might bias downstream analyses. To\n",
    "remove them, there are many methods that compute doublet scores, one of them being `scrublet`. We can compute doublets scores by:"
   ]
  },
  {
   "cell_type": "code",
   "execution_count": null,
   "id": "5935b931-8cac-4027-9e3e-87310fa23d20",
   "metadata": {},
   "outputs": [],
   "source": [
    "# Compute doublets score\n",
    "sce.pp.scrublet(adata, verbose=True)"
   ]
  },
  {
   "cell_type": "markdown",
   "id": "2ba0143a-c122-406c-bd89-7c72f761878f",
   "metadata": {},
   "source": [
    "`scrublet` computes a score that goes from 0 to 1, 1 being very probable that a cell is a doublet. We can plot the distirbution\n",
    "of scores in a histogram:"
   ]
  },
  {
   "cell_type": "code",
   "execution_count": null,
   "id": "6f538ea3-da01-4f5d-8552-8bd15693499e",
   "metadata": {},
   "outputs": [],
   "source": [
    "plt.hist(adata.obs['doublet_score'], bins=40)\n",
    "plt.ylabel('counts')\n",
    "plt.xlabel('doublet_score')\n",
    "plt.show()"
   ]
  },
  {
   "cell_type": "markdown",
   "id": "8bb5a57c-73d2-48f3-93eb-afce72eecaf2",
   "metadata": {},
   "source": [
    "To remove outliers we can set a threshold at 0.2:"
   ]
  },
  {
   "cell_type": "code",
   "execution_count": null,
   "id": "bd32e5e7-7afc-43fd-8590-b3ff3b6483c5",
   "metadata": {},
   "outputs": [],
   "source": [
    "# Filter cells\n",
    "adata = adata[adata.obs['doublet_score'] <= 0.2, :]\n",
    "adata"
   ]
  },
  {
   "cell_type": "markdown",
   "id": "d0aaea3a-4966-47ce-bc4b-d33d90c89d57",
   "metadata": {},
   "source": [
    "## Normalization"
   ]
  },
  {
   "cell_type": "markdown",
   "id": "dbc98696-ebf0-49aa-b011-e33dac976098",
   "metadata": {},
   "source": [
    "Each count in a count matrix represents the successful capture, reverse transcription and sequencing of a molecule of cellular mRNA. Count depths for identical cells can differ due to the variability inherent in each of these steps. Thus, when gene expression is compared between cells based on count data, any difference may have arisen solely due to sampling effects. Normalization addresses this issue by scaling count data to obtain correct relative gene expression abundances between cells.\n",
    "The most used normalization technique is to normalize each cell by total counts over all genes, so that every cell has the same total count after normalization. Afterwards we multiply the normalized counts to the estimated library size (1e4) and we apply the log(x+1), which mitigates (but does not remove) the mean–variance relationship in single-cell data.\n",
    "\n",
    "Before normalizing, we will store the raw integer counts into the `layers` attribute of our object"
   ]
  },
  {
   "cell_type": "code",
   "execution_count": null,
   "id": "97d2297b-85bb-40f9-b51a-704da144c5e5",
   "metadata": {},
   "outputs": [],
   "source": [
    "adata.layers['counts'] = adata.X.copy()"
   ]
  },
  {
   "cell_type": "markdown",
   "id": "8491207b-1004-4a58-b6a1-75499d640cf2",
   "metadata": {},
   "source": [
    "Then we normalize and log transform:"
   ]
  },
  {
   "cell_type": "code",
   "execution_count": null,
   "id": "a6118251-7f51-4bed-a6f5-bb7931d99a30",
   "metadata": {},
   "outputs": [],
   "source": [
    "sc.pp.normalize_total(adata, target_sum=1e4)\n",
    "sc.pp.log1p(adata)"
   ]
  },
  {
   "cell_type": "markdown",
   "id": "b34a1115-f8ee-4c1e-93a7-2d27db55418e",
   "metadata": {},
   "source": [
    "We can then store the results into another assay in the layers attribute:"
   ]
  },
  {
   "cell_type": "code",
   "execution_count": null,
   "id": "dcd3132e-4ea3-443f-9769-e63bc6bc09d7",
   "metadata": {},
   "outputs": [],
   "source": [
    "adata.layers['logcounts'] = adata.X.copy()"
   ]
  },
  {
   "cell_type": "markdown",
   "id": "579d1a59-9d34-4702-8547-d56ab4af41ea",
   "metadata": {},
   "source": [
    "## Feature selection"
   ]
  },
  {
   "cell_type": "markdown",
   "id": "496be2c8-5f5e-4bb4-ae7b-4fb56b5d7e62",
   "metadata": {},
   "source": [
    "To identify different cell clusters in our data we first need to reduce their dimmensions by running principal component analysis (PCA) to reveal the main axes of variation and denoise the data. However before that we need to make a selection of features (genes) that maximize the differences between our cells. We can compute the Highly Variable Genes (HVG) by running this code:"
   ]
  },
  {
   "cell_type": "code",
   "execution_count": null,
   "id": "9b520d86-ed92-48ce-a82b-cf87b9bb6e6e",
   "metadata": {},
   "outputs": [],
   "source": [
    "sc.pp.highly_variable_genes(adata)"
   ]
  },
  {
   "cell_type": "markdown",
   "id": "ac2d057e-0b7b-4996-9339-b3f3827af1bd",
   "metadata": {},
   "source": [
    "We can see which ones are flagged as HVG in the `var` attribute:"
   ]
  },
  {
   "cell_type": "code",
   "execution_count": null,
   "id": "7fc98eff-6dc8-4a2d-99c6-d00d29f830c9",
   "metadata": {},
   "outputs": [],
   "source": [
    "adata.var"
   ]
  },
  {
   "cell_type": "markdown",
   "id": "ff7f44b7-dba5-4527-96ed-a1389d9e302d",
   "metadata": {},
   "source": [
    "## Dimensionality reduction"
   ]
  },
  {
   "cell_type": "markdown",
   "id": "5868fccf-2460-4e62-9a1b-9926db7a8a24",
   "metadata": {},
   "source": [
    "Once we have a set of genes that account for the most variability in our data, we can scale our features and apply PCA."
   ]
  },
  {
   "cell_type": "code",
   "execution_count": null,
   "id": "bbb0e414-1761-4e1f-ad04-aabe30c9f1d4",
   "metadata": {},
   "outputs": [],
   "source": [
    "sc.pp.scale(adata, max_value=10)\n",
    "sc.tl.pca(adata, svd_solver='arpack')"
   ]
  },
  {
   "cell_type": "markdown",
   "id": "21b17c08-6d31-42ec-9dd4-7e43360dc616",
   "metadata": {},
   "source": [
    "The obtained PCs are stored in the `obsm` attribute:"
   ]
  },
  {
   "cell_type": "code",
   "execution_count": null,
   "id": "56c02115-a2a7-4bae-a07b-109bc4066b3f",
   "metadata": {},
   "outputs": [],
   "source": [
    "adata.obsm['X_pca']"
   ]
  },
  {
   "cell_type": "markdown",
   "id": "04108b69-5a03-424b-8241-c7398e66c9d9",
   "metadata": {},
   "source": [
    "## Visualization"
   ]
  },
  {
   "cell_type": "markdown",
   "id": "0a22ab71-0ea1-4aa0-ba39-86aa49f2aae1",
   "metadata": {},
   "source": [
    "For visualization purposes, it is standard practice to use non-linear dimensionality reduction methods, for example Uniform Approximation and Projection method (UMAP).\n",
    "\n",
    "To run UMAP, first we need to compute a neighbouring graph between cells from the PCs space and them run the algorithm:"
   ]
  },
  {
   "cell_type": "code",
   "execution_count": null,
   "id": "c520d6c4-329b-49f8-bc00-1937844c0dad",
   "metadata": {},
   "outputs": [],
   "source": [
    "# Compute neighbours and UMAP embedding\n",
    "sc.pp.neighbors(adata)\n",
    "sc.tl.umap(adata)"
   ]
  },
  {
   "cell_type": "markdown",
   "id": "abf35d7c-77dd-4325-8e46-1f334346d794",
   "metadata": {},
   "source": [
    "We can then find clusters in the neighbour graph which hopefully will belong to different cell types. To find clusters there\n",
    "are different algorithms available, here we will use the leiden algorithm:"
   ]
  },
  {
   "cell_type": "code",
   "execution_count": null,
   "id": "f062acd7-971b-4114-a5aa-a052fb7c3164",
   "metadata": {},
   "outputs": [],
   "source": [
    "# Find clusters in the NN graph\n",
    "sc.tl.leiden(adata)"
   ]
  },
  {
   "cell_type": "markdown",
   "id": "d1bcc100-a065-4d9b-a04f-09abd3b122d1",
   "metadata": {},
   "source": [
    "We can visualize the obtained clusters in the UMAP embedding. We can also plot the expression of genes into the UMAP,\n",
    "for example CD40, a known marker gene for B cells:"
   ]
  },
  {
   "cell_type": "code",
   "execution_count": null,
   "id": "38a9c0c3-5cc5-4e60-bb98-789c597744a5",
   "metadata": {},
   "outputs": [],
   "source": [
    "# Visualize UMAP\n",
    "sc.pl.umap(adata, color=['leiden','CD40'])"
   ]
  },
  {
   "cell_type": "markdown",
   "id": "fbf145ef-32d5-46e9-b310-a829012c978a",
   "metadata": {},
   "source": [
    "## Annotation"
   ]
  },
  {
   "cell_type": "markdown",
   "id": "6aa120ce-b3f3-4ef4-85db-17322e12af11",
   "metadata": {},
   "source": [
    "Identifying and annotating clusters relies on using external sources of information describing the expected expression profiles of individual cell identities. To do so, we need to identify first marker gene sets by applying differential expression (DE) testing between two groups: the cells in one cluster and all other cells in the dataset.\n",
    "\n",
    "As marker genes are expected to have strong differential expression effects, simple statistical tests such as the t-test are often used to rank genes by their difference in expression between these two groups. The top-ranked genes from the respective test statistic are regarded as marker genes. Then, clusters can be annotated by comparing marker genes from the dataset and marker genes from prior knowledge.\n",
    "\n",
    "To compute marker genes run:"
   ]
  },
  {
   "cell_type": "code",
   "execution_count": null,
   "id": "2097d3e1-0974-424c-90e7-9966d08c0f16",
   "metadata": {},
   "outputs": [],
   "source": [
    "sc.tl.rank_genes_groups(adata, 'leiden', method='t-test', layer='logcounts')"
   ]
  },
  {
   "cell_type": "markdown",
   "id": "4569a220-a57c-49c8-b698-c2352abf7ba4",
   "metadata": {},
   "source": [
    "We can extract the results as a dataframe with the following function:"
   ]
  },
  {
   "cell_type": "code",
   "execution_count": null,
   "id": "b9907eaf-bb4f-4925-94c6-ddb721f3bfc3",
   "metadata": {},
   "outputs": [],
   "source": [
    "df = sc.get.rank_genes_groups_df(adata, group=None)\n",
    "df"
   ]
  },
  {
   "cell_type": "markdown",
   "id": "d715c62c-d357-4f4e-814f-cf3e758feb55",
   "metadata": {},
   "source": [
    "We can then visualize the top 3 identified marker genes per cluster using a dotplot:"
   ]
  },
  {
   "cell_type": "code",
   "execution_count": null,
   "id": "1e720989-2ef5-445b-a640-6a690aba3a09",
   "metadata": {},
   "outputs": [],
   "source": [
    "markers = df.groupby('group').head(3)['names'].values\n",
    "sc.pl.dotplot(adata, var_names=markers, groupby='leiden', dendrogram=True, standard_scale='var')"
   ]
  },
  {
   "cell_type": "markdown",
   "id": "53b78ecd-c240-4870-ba8d-8592064d6518",
   "metadata": {},
   "source": [
    "Some clusters show well known marker genes for immune cell types. If we take a closer look we can manually annotate the obtained\n",
    "clusters. Note that it is possible that some clusters might be annotated as the same cell type if their marker genes overlap."
   ]
  },
  {
   "cell_type": "code",
   "execution_count": null,
   "id": "6fc04abc-57c5-4edc-88b7-90ffb77cb453",
   "metadata": {},
   "outputs": [],
   "source": [
    "annotation_dict = {\n",
    " '0': 'T cells',\n",
    " '1': 'Neutrophils',\n",
    " '2': 'Neutrophils',\n",
    " '3': 'T cells',\n",
    " '4': 'B cells',\n",
    " '5': 'T cells',\n",
    " '6': 'Platelets',\n",
    " '7': 'Monocytes',\n",
    " '8': 'T cells',\n",
    " '9': 'Monocytes',\n",
    " '10': 'Dendritic cells',\n",
    " '11': 'Erythroid-like and erythroid precursor cells',\n",
    "}"
   ]
  },
  {
   "cell_type": "markdown",
   "id": "16531732-afb2-43c9-bec4-baffb0b29626",
   "metadata": {},
   "source": [
    "Then, we can add a metadata column with the annotated cell types and visualize the results:"
   ]
  },
  {
   "cell_type": "code",
   "execution_count": null,
   "id": "f2298bef-2ff7-408b-b53d-85dba0cb8090",
   "metadata": {},
   "outputs": [],
   "source": [
    "# Add cell type column based on annotation\n",
    "adata.obs['cell_type'] = [annotation_dict[clust] for clust in adata.obs['leiden']]\n",
    "\n",
    "# Visualize\n",
    "sc.pl.umap(adata, color='cell_type')"
   ]
  },
  {
   "cell_type": "markdown",
   "id": "6b25aa0b-29b5-4c18-942d-fe345e612546",
   "metadata": {},
   "source": [
    "## Integration"
   ]
  },
  {
   "cell_type": "markdown",
   "id": "2cf39f35-8dd2-4cb8-8765-242804831148",
   "metadata": {},
   "source": [
    "Up until one we were working with just one of the samples in our dataset. To be able to make comparisons between healthy and\n",
    "disease patients we need to process the other samples and merge them together.\n",
    "\n",
    "We will read the different samples, apply the previously explained QC steps and normalization, and merge all cells into one single\n",
    "object. To achieve this, we will define some functions that perform the mentioned steps:"
   ]
  },
  {
   "cell_type": "code",
   "execution_count": null,
   "id": "0883df30-62da-44be-ae05-0e07c2d53a57",
   "metadata": {},
   "outputs": [],
   "source": [
    "def qc_sample(sample_id):\n",
    "    \"\"\"\n",
    "    Reads and performs QC on a given sample.\n",
    "    \"\"\"\n",
    "\n",
    "    # Read\n",
    "    adata = sc.read_10x_mtx(os.path.join('data', sample_id))\n",
    "\n",
    "    # Basic filtering\n",
    "    sc.pp.filter_cells(adata, min_genes=200)\n",
    "    sc.pp.filter_genes(adata, min_cells=3)\n",
    "\n",
    "    # Compute QC metrics\n",
    "    adata.var['mt'] = adata.var_names.str.startswith('MT-')\n",
    "    sc.pp.calculate_qc_metrics(adata, qc_vars=['mt'], percent_top=None, log1p=False, inplace=True)\n",
    "\n",
    "    # Filter cells\n",
    "    adata = adata[(adata.obs.n_genes_by_counts < 5000) & (adata.obs.n_genes_by_counts > 500), :]\n",
    "    adata = adata[adata.obs.pct_counts_mt < 15, :]\n",
    "\n",
    "    # Compute doublets score\n",
    "    sce.pp.scrublet(adata, verbose=False)\n",
    "\n",
    "    # Filter cells\n",
    "    adata = adata[adata.obs['doublet_score'].values <= 0.2, :]\n",
    "\n",
    "    return adata\n",
    "\n",
    "def norm_sample(adata):\n",
    "    \"\"\"\n",
    "    Normalizes, transforms and stores counts.\n",
    "    \"\"\"\n",
    "\n",
    "    # Store raw counts\n",
    "    adata.layers['counts'] = adata.X.copy()\n",
    "\n",
    "    # Normalize and log transform\n",
    "    sc.pp.normalize_total(adata, target_sum=1e4)\n",
    "    sc.pp.log1p(adata)\n",
    "\n",
    "    # Store logcounts\n",
    "    adata.layers['logcounts'] = adata.X.copy()\n",
    "\n",
    "    return adata"
   ]
  },
  {
   "cell_type": "code",
   "execution_count": null,
   "id": "57e6aa02-0d5f-4a04-93d5-75c05e5c59cf",
   "metadata": {},
   "outputs": [],
   "source": [
    "# Init empty adata\n",
    "adata = []\n",
    "\n",
    "# Iterate samples\n",
    "for sample_id in metadata.index:\n",
    "\n",
    "    print(sample_id)\n",
    "\n",
    "    # QC and normalize sample\n",
    "    s_adata = qc_sample(sample_id)\n",
    "    s_adata = norm_sample(s_adata)\n",
    "\n",
    "    # Add metadata\n",
    "    s_adata.obs['sample_id'] = sample_id\n",
    "    s_adata.obs['condition'] = metadata.loc[sample_id, 'condition']\n",
    "    \n",
    "    # Add to rest\n",
    "    adata.append(s_adata)\n",
    "\n",
    "# Merge adatas into one\n",
    "adata = adata[0].concatenate(adata[1:], join=\"outer\")"
   ]
  },
  {
   "cell_type": "code",
   "execution_count": null,
   "id": "1df7c30b-345c-4438-a7c6-9c93f84c49ae",
   "metadata": {},
   "outputs": [],
   "source": []
  },
  {
   "cell_type": "markdown",
   "id": "50315c27-59fe-45ba-9356-cbdae2e4d177",
   "metadata": {},
   "source": [
    "We can notice that now in the `obs` we see we have different samples and conditions:"
   ]
  },
  {
   "cell_type": "code",
   "execution_count": null,
   "id": "ed9d8911-81a4-46b0-8fea-011f09119a1a",
   "metadata": {},
   "outputs": [],
   "source": [
    "adata.obs"
   ]
  },
  {
   "cell_type": "code",
   "execution_count": null,
   "id": "12415ba2-c2af-4879-b662-d9a81ba0ede8",
   "metadata": {},
   "outputs": [],
   "source": []
  },
  {
   "cell_type": "markdown",
   "id": "9168cc6d-b516-4c49-9b20-57a4f20b4ba5",
   "metadata": {},
   "source": [
    "Like before, we need to find HVG. In this case, we will compute them per sample and then select the top 3000 genes that are HVG\n",
    "across as many samples as possible:"
   ]
  },
  {
   "cell_type": "code",
   "execution_count": null,
   "id": "06230ebd-c56d-469a-8027-0a8ad9d07376",
   "metadata": {},
   "outputs": [],
   "source": [
    "# Compute HVG\n",
    "sc.pp.highly_variable_genes(adata, batch_key='batch', layer='logcounts')\n",
    "\n",
    "# Filter by HVG\n",
    "num_hvg_genes = 3000\n",
    "batch_msk = np.array(adata.var['highly_variable_nbatches'] > 1)\n",
    "hvg = adata.var[batch_msk].sort_values('highly_variable_nbatches').tail(num_hvg_genes).index\n",
    "adata.var['highly_variable'] = [g in hvg for g in adata.var.index]"
   ]
  },
  {
   "cell_type": "markdown",
   "id": "a9a7a4cc-fd0b-47ca-b15f-69514196c566",
   "metadata": {},
   "source": [
    "Once we find HVG that are representative in all samples, we can scale and compute PCA on them."
   ]
  },
  {
   "cell_type": "code",
   "execution_count": null,
   "id": "c6ca136d-2dd0-46c1-91f7-20c36017a37b",
   "metadata": {},
   "outputs": [],
   "source": [
    "sc.pp.scale(adata, max_value=10)\n",
    "sc.tl.pca(adata, svd_solver='arpack')\n",
    "\n",
    "# Remove scaled counts and put back logcounts\n",
    "adata.X = adata.layers['logcounts'].copy()"
   ]
  },
  {
   "cell_type": "markdown",
   "id": "6818702f-460f-4b3d-8a3d-fa77d18bceff",
   "metadata": {},
   "source": [
    "The next step would be to perform UMAP but we need to consider batch effects.\n",
    "Batch effects can occur when cells are handled in distinct groups. These groups can consist of cells on different chips, cells in different sequencing lanes or cells harvested at different time points. The differing environments experienced by the cells can have an effect on the measurement of the transcriptome or on the transcriptome itself.\n",
    "\n",
    "To correct for these effects we need to integrate the samples by correcting by technical effects. Different methods of integration\n",
    "exists, all of them work on correcting the cell embeddings (not directly on the gene expression) to regress this unwanted variability.\n",
    "As an example we will use `harmony` which modifies the PCs into comparable features across batches:"
   ]
  },
  {
   "cell_type": "code",
   "execution_count": null,
   "id": "c7445613-38fd-48e3-b2d7-a26ce60164a4",
   "metadata": {},
   "outputs": [],
   "source": [
    "sce.pp.harmony_integrate(adata, 'batch', max_iter_harmony=30)"
   ]
  },
  {
   "cell_type": "markdown",
   "id": "325c0755-2700-44c1-aee5-621529e8bcf3",
   "metadata": {},
   "source": [
    "Once we have the corrected PCs, we can compute NN and the UMAP embedding:"
   ]
  },
  {
   "cell_type": "code",
   "execution_count": null,
   "id": "17049d32-0504-4414-8f14-e8555a22deca",
   "metadata": {},
   "outputs": [],
   "source": [
    "# Compute neighbours and UMAP embedding\n",
    "sc.pp.neighbors(adata)\n",
    "sc.tl.umap(adata)"
   ]
  },
  {
   "cell_type": "markdown",
   "id": "19da28a9-b447-458a-a050-d060f0ced522",
   "metadata": {},
   "source": [
    "We can also find clusters:"
   ]
  },
  {
   "cell_type": "code",
   "execution_count": null,
   "id": "a5742776-edec-49de-b0cb-018b816b5808",
   "metadata": {},
   "outputs": [],
   "source": [
    "# Find clusters in the NN graph\n",
    "sc.tl.leiden(adata)"
   ]
  },
  {
   "cell_type": "markdown",
   "id": "abe57768-2088-4a13-9aa3-077a51cd1b19",
   "metadata": {},
   "source": [
    "Here we visualize the obtained clusters, the original sample ids and their condition:"
   ]
  },
  {
   "cell_type": "code",
   "execution_count": null,
   "id": "edb01a31-8686-4645-bfb0-a0843528cd05",
   "metadata": {},
   "outputs": [],
   "source": [
    "# Visualize UMAP\n",
    "sc.pl.umap(adata, color=['leiden', 'sample_id', 'condition'], wspace=0.3)"
   ]
  },
  {
   "cell_type": "markdown",
   "id": "d5dee6d8-4f05-41bf-9ea5-d5fd54cd65d7",
   "metadata": {},
   "source": [
    "We can observe that almost all defined clusters seem to come from multiple samples, meaning that the integration worked."
   ]
  },
  {
   "cell_type": "markdown",
   "id": "d1c749c8-b473-4cfc-810c-3062da34d232",
   "metadata": {},
   "source": [
    "## Automatic cell type annotation"
   ]
  },
  {
   "cell_type": "markdown",
   "id": "5fc6d7d1-4d0d-4ab7-9e13-4fe3ee931d0e",
   "metadata": {},
   "source": [
    "Before we showed that if we look at the marker genes of a given cluster, we could manually annotate the cell clusters with known\n",
    "marker genes. This process if done manually over dozens of clusters can become tedious but it can become automated with the use\n",
    "of gene sets.\n",
    "\n",
    "Gene sets are groups of genes that can be associated to a biological term such as pathways, diseases or in this case cell types.\n",
    "\n",
    "Thanks to recent and ongoing efforts such as the mouse brain atlas (Zeisel et al, 2018) or the Human Cell Atlas (Regev et al, 2017), reference databases are increasingly becoming available. One of them is PanglaoDB, a database of markers for human and mouse.\n",
    "\n",
    "We can access PanglaoDB trough OmniPath, a meta-resource of databases, and filter it by canonical human genes:"
   ]
  },
  {
   "cell_type": "code",
   "execution_count": null,
   "id": "a425149d-4861-45d1-aefd-3cd6656a1ef7",
   "metadata": {},
   "outputs": [],
   "source": [
    "# Retrieve database\n",
    "panglaodb = dc.get_resource('PanglaoDB')\n",
    "\n",
    "# Filter by canonical_marker and human\n",
    "panglaodb = panglaodb[(panglaodb['human']=='True') & (panglaodb['canonical_marker']=='True')]\n",
    "\n",
    "# Remove duplicated entries\n",
    "panglaodb = panglaodb[~panglaodb.duplicated(['cell_type', 'genesymbol'])]\n",
    "panglaodb"
   ]
  },
  {
   "cell_type": "markdown",
   "id": "c0e231f3-b641-4a2d-9014-db473c9d45f2",
   "metadata": {},
   "source": [
    "We can then use the framework `decoupler` to perform Over Representation Analysis and enrich each cell for cell type annotations:"
   ]
  },
  {
   "cell_type": "code",
   "execution_count": null,
   "id": "7f4d61a2-27e7-4696-a9fd-7718b9995e68",
   "metadata": {},
   "outputs": [],
   "source": [
    "dc.run_ora(mat=adata, net=panglaodb, source='cell_type', target='genesymbol', min_n=3, verbose=True, use_raw=False)"
   ]
  },
  {
   "cell_type": "markdown",
   "id": "12351b89-9b3c-4339-a7e5-cd6cc99736c7",
   "metadata": {},
   "source": [
    "We can then extract the enrichment scores into a new object:"
   ]
  },
  {
   "cell_type": "code",
   "execution_count": null,
   "id": "3b5ac745-16c5-4ee3-9222-0767bc51c3b6",
   "metadata": {},
   "outputs": [],
   "source": [
    "acts = dc.get_acts(adata, 'ora_estimate')"
   ]
  },
  {
   "cell_type": "markdown",
   "id": "056723a2-5940-4055-b203-fb9549718379",
   "metadata": {},
   "source": [
    "Let us visualize some of the enrichments:"
   ]
  },
  {
   "cell_type": "code",
   "execution_count": null,
   "id": "f739ab7c-5061-4dd5-8024-8fb5f4bd27d4",
   "metadata": {},
   "outputs": [],
   "source": [
    "# Visualize UMAP\n",
    "sc.pl.umap(acts, color=['leiden', 'B cells', 'T cells', 'Platelets'], wspace=0.3)"
   ]
  },
  {
   "cell_type": "markdown",
   "id": "2294b57e-38c5-4b20-9bcd-e309b0823773",
   "metadata": {},
   "source": [
    "We can also extract the mean enrichment per cluster and visualize it as a clustermap:"
   ]
  },
  {
   "cell_type": "code",
   "execution_count": null,
   "id": "d3728574-4c80-4714-b70d-69aaf526daea",
   "metadata": {},
   "outputs": [],
   "source": [
    "mean_enr = dc.summarize_acts(acts, groupby='leiden', min_std=1)\n",
    "sns.clustermap(mean_enr, xticklabels=mean_enr.columns, cmap='coolwarm', standard_scale=0)\n",
    "plt.show()"
   ]
  },
  {
   "cell_type": "markdown",
   "id": "0f6b45ab-7a56-4809-8541-37eab01c184a",
   "metadata": {},
   "source": [
    "We can manually annotate the clusters based on the enrichment, or we can use a function from `decoupler` that selects the\n",
    "most enriched annotation per cluster:"
   ]
  },
  {
   "cell_type": "code",
   "execution_count": null,
   "id": "6aec8a34-5ea4-45af-b920-2776fd02d3e6",
   "metadata": {},
   "outputs": [],
   "source": [
    "# Automatically select top predicted cell type per cluster\n",
    "annotation_dict = dc.assign_groups(mean_enr)\n",
    "annotation_dict"
   ]
  },
  {
   "cell_type": "markdown",
   "id": "0be8690f-68c0-4332-afb3-431002b21b76",
   "metadata": {},
   "source": [
    "With the new annotation we can update the cell metadata and visualize"
   ]
  },
  {
   "cell_type": "code",
   "execution_count": null,
   "id": "33de48f2-f0ca-4f07-97c6-74a6260a330f",
   "metadata": {},
   "outputs": [],
   "source": [
    "# Add cell type column based on annotation\n",
    "adata.obs['cell_type'] = [annotation_dict[clust] for clust in adata.obs['leiden']]\n",
    "\n",
    "# Visualize\n",
    "sc.pl.umap(adata, color='cell_type')"
   ]
  },
  {
   "cell_type": "code",
   "execution_count": null,
   "id": "b0a4b179-aa58-4c43-bd9f-0c67b2d37263",
   "metadata": {},
   "outputs": [],
   "source": []
  },
  {
   "cell_type": "markdown",
   "id": "7cb71344-747e-46d8-a64f-797af10f168f",
   "metadata": {},
   "source": [
    "## Differential Expression Analysis (DEA)\n",
    "\n",
    "Now that we have our atlas annotated, we can start looking at differences between our disease and healthy samples.\n",
    "To do so, we will apply statistics to identify which genes are changing the most. To minimise sampling effects, we will perform\n",
    "the test at the pseudobulk level, which is the colapsing of molecular readouts coming from one sample in a given cell type into\n",
    "one single profile.\n",
    "\n",
    "To compute pseudobulk profiles we can use `decoupler`:"
   ]
  },
  {
   "cell_type": "code",
   "execution_count": 10,
   "id": "516a6b0a-c0f7-4c55-adb9-605006a32d70",
   "metadata": {},
   "outputs": [
    {
     "name": "stderr",
     "output_type": "stream",
     "text": [
      "/home/dbdimitrov/anaconda3/lib/python3.8/site-packages/decoupler/utils_anndata.py:268: FutureWarning: X.dtype being converted to np.float32 from float64. In the next version of anndata (0.9) conversion will not be automatic. Pass dtype explicitly to avoid this warning. Pass `AnnData(X, dtype=X.dtype, ...)` to get the future behavour.\n",
      "  psbulk = AnnData(psbulk, obs=new_obs, var=new_var)\n",
      "/home/dbdimitrov/anaconda3/lib/python3.8/site-packages/scanpy/preprocessing/_normalization.py:155: UserWarning: Revieved a view of an AnnData. Making a copy.\n",
      "  view_to_actual(adata)\n"
     ]
    },
    {
     "data": {
      "text/plain": [
       "AnnData object with n_obs × n_vars = 32 × 7365\n",
       "    obs: 'sample_id', 'condition', 'batch', 'cell_type'\n",
       "    uns: 'log1p'"
      ]
     },
     "execution_count": 10,
     "metadata": {},
     "output_type": "execute_result"
    }
   ],
   "source": [
    "# Get pseudo-bulk profile\n",
    "padata = dc.get_pseudobulk(adata, sample_col='sample_id', groups_col='cell_type', layer='counts', min_prop=0.2, min_smpls=3)\n",
    "\n",
    "# Normalize\n",
    "sc.pp.normalize_total(padata, target_sum=1e4)\n",
    "sc.pp.log1p(padata)\n",
    "padata"
   ]
  },
  {
   "cell_type": "markdown",
   "id": "03d94421-562f-40f2-aa38-bff201b9350d",
   "metadata": {},
   "source": [
    "Once we have generated robust pseudo-bulk profiles for each sample and cell type, we can run any statistical test to compute DEA. For this example we will use t-test as is implemented in scanpy but we could use any other."
   ]
  },
  {
   "cell_type": "code",
   "execution_count": 11,
   "id": "9b02f78c-93df-4bff-a7bb-9092625d95cb",
   "metadata": {},
   "outputs": [
    {
     "data": {
      "text/html": [
       "<div>\n",
       "<style scoped>\n",
       "    .dataframe tbody tr th:only-of-type {\n",
       "        vertical-align: middle;\n",
       "    }\n",
       "\n",
       "    .dataframe tbody tr th {\n",
       "        vertical-align: top;\n",
       "    }\n",
       "\n",
       "    .dataframe thead th {\n",
       "        text-align: right;\n",
       "    }\n",
       "</style>\n",
       "<table border=\"1\" class=\"dataframe\">\n",
       "  <thead>\n",
       "    <tr style=\"text-align: right;\">\n",
       "      <th></th>\n",
       "      <th>A1BG</th>\n",
       "      <th>AAGAB</th>\n",
       "      <th>AAK1</th>\n",
       "      <th>AAMP</th>\n",
       "      <th>AAR2</th>\n",
       "      <th>AARS1</th>\n",
       "      <th>AARS2</th>\n",
       "      <th>AATF</th>\n",
       "      <th>AATF-1</th>\n",
       "      <th>ABCB1</th>\n",
       "      <th>...</th>\n",
       "      <th>ZRANB2</th>\n",
       "      <th>ZRSR2</th>\n",
       "      <th>ZSCAN2</th>\n",
       "      <th>ZSWIM6</th>\n",
       "      <th>ZSWIM7</th>\n",
       "      <th>ZSWIM8</th>\n",
       "      <th>ZXDC</th>\n",
       "      <th>ZYG11B</th>\n",
       "      <th>ZYX</th>\n",
       "      <th>ZZEF1</th>\n",
       "    </tr>\n",
       "  </thead>\n",
       "  <tbody>\n",
       "    <tr>\n",
       "      <th>B cells naive</th>\n",
       "      <td>-0.695756</td>\n",
       "      <td>0.00000</td>\n",
       "      <td>-1.181385</td>\n",
       "      <td>0.000000</td>\n",
       "      <td>0.000000</td>\n",
       "      <td>0.636842</td>\n",
       "      <td>-0.194534</td>\n",
       "      <td>-0.111884</td>\n",
       "      <td>0.000000</td>\n",
       "      <td>0.000000</td>\n",
       "      <td>...</td>\n",
       "      <td>-0.089550</td>\n",
       "      <td>0.006110</td>\n",
       "      <td>0.000000</td>\n",
       "      <td>0.000000</td>\n",
       "      <td>0.000000</td>\n",
       "      <td>0.000000</td>\n",
       "      <td>0.000000</td>\n",
       "      <td>0.965155</td>\n",
       "      <td>0.000000</td>\n",
       "      <td>0.228279</td>\n",
       "    </tr>\n",
       "    <tr>\n",
       "      <th>Dendritic cells</th>\n",
       "      <td>0.000000</td>\n",
       "      <td>0.00000</td>\n",
       "      <td>0.000000</td>\n",
       "      <td>0.000000</td>\n",
       "      <td>0.000000</td>\n",
       "      <td>0.000000</td>\n",
       "      <td>0.000000</td>\n",
       "      <td>0.000000</td>\n",
       "      <td>0.000000</td>\n",
       "      <td>0.000000</td>\n",
       "      <td>...</td>\n",
       "      <td>0.000000</td>\n",
       "      <td>0.000000</td>\n",
       "      <td>0.000000</td>\n",
       "      <td>0.000000</td>\n",
       "      <td>0.000000</td>\n",
       "      <td>0.000000</td>\n",
       "      <td>0.000000</td>\n",
       "      <td>0.000000</td>\n",
       "      <td>0.000000</td>\n",
       "      <td>0.000000</td>\n",
       "    </tr>\n",
       "    <tr>\n",
       "      <th>Monocytes</th>\n",
       "      <td>-0.150854</td>\n",
       "      <td>-0.30146</td>\n",
       "      <td>0.290070</td>\n",
       "      <td>0.330853</td>\n",
       "      <td>1.255615</td>\n",
       "      <td>0.634714</td>\n",
       "      <td>0.537959</td>\n",
       "      <td>-0.583964</td>\n",
       "      <td>0.024772</td>\n",
       "      <td>0.000000</td>\n",
       "      <td>...</td>\n",
       "      <td>0.266832</td>\n",
       "      <td>0.146210</td>\n",
       "      <td>0.254742</td>\n",
       "      <td>0.111009</td>\n",
       "      <td>0.051165</td>\n",
       "      <td>0.404000</td>\n",
       "      <td>0.153299</td>\n",
       "      <td>0.512849</td>\n",
       "      <td>0.451267</td>\n",
       "      <td>0.145024</td>\n",
       "    </tr>\n",
       "    <tr>\n",
       "      <th>NK cells</th>\n",
       "      <td>0.000000</td>\n",
       "      <td>0.00000</td>\n",
       "      <td>-0.040727</td>\n",
       "      <td>0.000000</td>\n",
       "      <td>0.000000</td>\n",
       "      <td>0.000000</td>\n",
       "      <td>0.000000</td>\n",
       "      <td>0.047430</td>\n",
       "      <td>0.000000</td>\n",
       "      <td>-0.150639</td>\n",
       "      <td>...</td>\n",
       "      <td>0.294128</td>\n",
       "      <td>-0.343749</td>\n",
       "      <td>0.000000</td>\n",
       "      <td>0.000000</td>\n",
       "      <td>0.000000</td>\n",
       "      <td>0.195674</td>\n",
       "      <td>0.000000</td>\n",
       "      <td>0.156584</td>\n",
       "      <td>0.000000</td>\n",
       "      <td>-0.121702</td>\n",
       "    </tr>\n",
       "    <tr>\n",
       "      <th>Neutrophils</th>\n",
       "      <td>0.000000</td>\n",
       "      <td>0.00000</td>\n",
       "      <td>0.000000</td>\n",
       "      <td>0.000000</td>\n",
       "      <td>0.000000</td>\n",
       "      <td>0.000000</td>\n",
       "      <td>0.000000</td>\n",
       "      <td>0.000000</td>\n",
       "      <td>0.000000</td>\n",
       "      <td>0.000000</td>\n",
       "      <td>...</td>\n",
       "      <td>0.000000</td>\n",
       "      <td>0.000000</td>\n",
       "      <td>0.000000</td>\n",
       "      <td>0.000000</td>\n",
       "      <td>0.000000</td>\n",
       "      <td>0.000000</td>\n",
       "      <td>0.000000</td>\n",
       "      <td>0.000000</td>\n",
       "      <td>0.000000</td>\n",
       "      <td>0.014061</td>\n",
       "    </tr>\n",
       "    <tr>\n",
       "      <th>T cells</th>\n",
       "      <td>-0.360406</td>\n",
       "      <td>0.00000</td>\n",
       "      <td>-0.216832</td>\n",
       "      <td>0.000000</td>\n",
       "      <td>0.000000</td>\n",
       "      <td>0.479775</td>\n",
       "      <td>0.000000</td>\n",
       "      <td>-0.157460</td>\n",
       "      <td>-0.113927</td>\n",
       "      <td>0.000000</td>\n",
       "      <td>...</td>\n",
       "      <td>-0.002940</td>\n",
       "      <td>0.061071</td>\n",
       "      <td>0.000000</td>\n",
       "      <td>0.000000</td>\n",
       "      <td>0.054785</td>\n",
       "      <td>0.000000</td>\n",
       "      <td>0.000000</td>\n",
       "      <td>0.312430</td>\n",
       "      <td>0.483740</td>\n",
       "      <td>0.126552</td>\n",
       "    </tr>\n",
       "  </tbody>\n",
       "</table>\n",
       "<p>6 rows × 7365 columns</p>\n",
       "</div>"
      ],
      "text/plain": [
       "                     A1BG    AAGAB      AAK1      AAMP      AAR2     AARS1  \\\n",
       "B cells naive   -0.695756  0.00000 -1.181385  0.000000  0.000000  0.636842   \n",
       "Dendritic cells  0.000000  0.00000  0.000000  0.000000  0.000000  0.000000   \n",
       "Monocytes       -0.150854 -0.30146  0.290070  0.330853  1.255615  0.634714   \n",
       "NK cells         0.000000  0.00000 -0.040727  0.000000  0.000000  0.000000   \n",
       "Neutrophils      0.000000  0.00000  0.000000  0.000000  0.000000  0.000000   \n",
       "T cells         -0.360406  0.00000 -0.216832  0.000000  0.000000  0.479775   \n",
       "\n",
       "                    AARS2      AATF    AATF-1     ABCB1  ...    ZRANB2  \\\n",
       "B cells naive   -0.194534 -0.111884  0.000000  0.000000  ... -0.089550   \n",
       "Dendritic cells  0.000000  0.000000  0.000000  0.000000  ...  0.000000   \n",
       "Monocytes        0.537959 -0.583964  0.024772  0.000000  ...  0.266832   \n",
       "NK cells         0.000000  0.047430  0.000000 -0.150639  ...  0.294128   \n",
       "Neutrophils      0.000000  0.000000  0.000000  0.000000  ...  0.000000   \n",
       "T cells          0.000000 -0.157460 -0.113927  0.000000  ... -0.002940   \n",
       "\n",
       "                    ZRSR2    ZSCAN2    ZSWIM6    ZSWIM7    ZSWIM8      ZXDC  \\\n",
       "B cells naive    0.006110  0.000000  0.000000  0.000000  0.000000  0.000000   \n",
       "Dendritic cells  0.000000  0.000000  0.000000  0.000000  0.000000  0.000000   \n",
       "Monocytes        0.146210  0.254742  0.111009  0.051165  0.404000  0.153299   \n",
       "NK cells        -0.343749  0.000000  0.000000  0.000000  0.195674  0.000000   \n",
       "Neutrophils      0.000000  0.000000  0.000000  0.000000  0.000000  0.000000   \n",
       "T cells          0.061071  0.000000  0.000000  0.054785  0.000000  0.000000   \n",
       "\n",
       "                   ZYG11B       ZYX     ZZEF1  \n",
       "B cells naive    0.965155  0.000000  0.228279  \n",
       "Dendritic cells  0.000000  0.000000  0.000000  \n",
       "Monocytes        0.512849  0.451267  0.145024  \n",
       "NK cells         0.156584  0.000000 -0.121702  \n",
       "Neutrophils      0.000000  0.000000  0.014061  \n",
       "T cells          0.312430  0.483740  0.126552  \n",
       "\n",
       "[6 rows x 7365 columns]"
      ]
     },
     "execution_count": 11,
     "metadata": {},
     "output_type": "execute_result"
    }
   ],
   "source": [
    "logFCs, pvals = dc.get_contrast(padata,\n",
    "                                group_col='cell_type',\n",
    "                                condition_col='condition',\n",
    "                                condition='covid',\n",
    "                                reference='control',\n",
    "                                method='t-test'\n",
    "                               )\n",
    "logFCs"
   ]
  },
  {
   "cell_type": "markdown",
   "id": "e4c7f161-3cbd-415b-ab57-0ba7be928bf1",
   "metadata": {},
   "source": [
    "We can transform these results into a dataframe and store them for future use:"
   ]
  },
  {
   "cell_type": "code",
   "execution_count": 12,
   "id": "3db183d9-848d-4de5-81df-a539f0a8d861",
   "metadata": {},
   "outputs": [
    {
     "data": {
      "text/html": [
       "<div>\n",
       "<style scoped>\n",
       "    .dataframe tbody tr th:only-of-type {\n",
       "        vertical-align: middle;\n",
       "    }\n",
       "\n",
       "    .dataframe tbody tr th {\n",
       "        vertical-align: top;\n",
       "    }\n",
       "\n",
       "    .dataframe thead th {\n",
       "        text-align: right;\n",
       "    }\n",
       "</style>\n",
       "<table border=\"1\" class=\"dataframe\">\n",
       "  <thead>\n",
       "    <tr style=\"text-align: right;\">\n",
       "      <th></th>\n",
       "      <th>contrast</th>\n",
       "      <th>name</th>\n",
       "      <th>logFCs</th>\n",
       "      <th>pvals</th>\n",
       "      <th>adj_pvals</th>\n",
       "    </tr>\n",
       "  </thead>\n",
       "  <tbody>\n",
       "    <tr>\n",
       "      <th>0</th>\n",
       "      <td>B cells naive</td>\n",
       "      <td>RBM34</td>\n",
       "      <td>1.174709</td>\n",
       "      <td>0.000041</td>\n",
       "      <td>0.303025</td>\n",
       "    </tr>\n",
       "    <tr>\n",
       "      <th>1</th>\n",
       "      <td>B cells naive</td>\n",
       "      <td>HLA-DPB1-4</td>\n",
       "      <td>7.916212</td>\n",
       "      <td>0.000387</td>\n",
       "      <td>1.0</td>\n",
       "    </tr>\n",
       "    <tr>\n",
       "      <th>2</th>\n",
       "      <td>B cells naive</td>\n",
       "      <td>KDM5C</td>\n",
       "      <td>-1.128315</td>\n",
       "      <td>0.000988</td>\n",
       "      <td>1.0</td>\n",
       "    </tr>\n",
       "    <tr>\n",
       "      <th>3</th>\n",
       "      <td>B cells naive</td>\n",
       "      <td>HLA-F-2</td>\n",
       "      <td>-0.692687</td>\n",
       "      <td>0.003163</td>\n",
       "      <td>1.0</td>\n",
       "    </tr>\n",
       "    <tr>\n",
       "      <th>4</th>\n",
       "      <td>B cells naive</td>\n",
       "      <td>CD37</td>\n",
       "      <td>-0.339621</td>\n",
       "      <td>0.003946</td>\n",
       "      <td>1.0</td>\n",
       "    </tr>\n",
       "    <tr>\n",
       "      <th>...</th>\n",
       "      <td>...</td>\n",
       "      <td>...</td>\n",
       "      <td>...</td>\n",
       "      <td>...</td>\n",
       "      <td>...</td>\n",
       "    </tr>\n",
       "    <tr>\n",
       "      <th>44185</th>\n",
       "      <td>T cells</td>\n",
       "      <td>CCDC198</td>\n",
       "      <td>0.000000</td>\n",
       "      <td>1.000000</td>\n",
       "      <td>1.0</td>\n",
       "    </tr>\n",
       "    <tr>\n",
       "      <th>44186</th>\n",
       "      <td>T cells</td>\n",
       "      <td>PLAA</td>\n",
       "      <td>0.000000</td>\n",
       "      <td>1.000000</td>\n",
       "      <td>1.0</td>\n",
       "    </tr>\n",
       "    <tr>\n",
       "      <th>44187</th>\n",
       "      <td>T cells</td>\n",
       "      <td>CCDC32</td>\n",
       "      <td>0.000000</td>\n",
       "      <td>1.000000</td>\n",
       "      <td>1.0</td>\n",
       "    </tr>\n",
       "    <tr>\n",
       "      <th>44188</th>\n",
       "      <td>T cells</td>\n",
       "      <td>FIG4</td>\n",
       "      <td>0.000000</td>\n",
       "      <td>1.000000</td>\n",
       "      <td>1.0</td>\n",
       "    </tr>\n",
       "    <tr>\n",
       "      <th>44189</th>\n",
       "      <td>T cells</td>\n",
       "      <td>TAGLN</td>\n",
       "      <td>0.000000</td>\n",
       "      <td>1.000000</td>\n",
       "      <td>1.0</td>\n",
       "    </tr>\n",
       "  </tbody>\n",
       "</table>\n",
       "<p>44190 rows × 5 columns</p>\n",
       "</div>"
      ],
      "text/plain": [
       "            contrast        name    logFCs     pvals adj_pvals\n",
       "0      B cells naive       RBM34  1.174709  0.000041  0.303025\n",
       "1      B cells naive  HLA-DPB1-4  7.916212  0.000387       1.0\n",
       "2      B cells naive       KDM5C -1.128315  0.000988       1.0\n",
       "3      B cells naive     HLA-F-2 -0.692687  0.003163       1.0\n",
       "4      B cells naive        CD37 -0.339621  0.003946       1.0\n",
       "...              ...         ...       ...       ...       ...\n",
       "44185        T cells     CCDC198  0.000000  1.000000       1.0\n",
       "44186        T cells        PLAA  0.000000  1.000000       1.0\n",
       "44187        T cells      CCDC32  0.000000  1.000000       1.0\n",
       "44188        T cells        FIG4  0.000000  1.000000       1.0\n",
       "44189        T cells       TAGLN  0.000000  1.000000       1.0\n",
       "\n",
       "[44190 rows x 5 columns]"
      ]
     },
     "execution_count": 12,
     "metadata": {},
     "output_type": "execute_result"
    }
   ],
   "source": [
    "deg = dc.format_contrast_results(logFCs, pvals)\n",
    "deg.to_csv('deg.csv', index=False)\n",
    "deg"
   ]
  },
  {
   "cell_type": "markdown",
   "id": "27327c9d-ab8b-4084-ba9a-0509d9e7ae83",
   "metadata": {},
   "source": [
    "We can also visualize the results as a volcano plot:"
   ]
  },
  {
   "cell_type": "code",
   "execution_count": 13,
   "id": "d8d5e64a-879f-49e4-a4e3-e61355739429",
   "metadata": {},
   "outputs": [
    {
     "data": {
      "image/png": "[encoded data removed]",
      "text/plain": [
       "<Figure size 700x500 with 1 Axes>"
      ]
     },
     "metadata": {
      "needs_background": "light"
     },
     "output_type": "display_data"
    }
   ],
   "source": [
    "dc.plot_volcano(logFCs, pvals, 'Monocytes', top=15, sign_thr=0.05, lFCs_thr=0.5)"
   ]
  },
  {
   "cell_type": "code",
   "execution_count": null,
   "id": "5e6695ed-ce3c-499d-8bed-2e559c9aea51",
   "metadata": {},
   "outputs": [],
   "source": []
  },
  {
   "cell_type": "code",
   "execution_count": null,
   "id": "459c55c3-5760-47a3-9c9b-b966db5635c9",
   "metadata": {},
   "outputs": [],
   "source": []
  },
  {
   "cell_type": "code",
   "execution_count": null,
   "id": "2f6da585-aa07-46a7-97d7-f00ee0e10ff5",
   "metadata": {},
   "outputs": [],
   "source": []
  },
  {
   "cell_type": "markdown",
   "id": "78e5969e-f4fd-4f2d-bc00-c67d817eb4c1",
   "metadata": {},
   "source": [
    "Remove duplicated gene that causes issues when converting to Seurat"
   ]
  },
  {
   "cell_type": "code",
   "execution_count": 14,
   "id": "01a5749b-1240-4de9-a39f-4250d852def0",
   "metadata": {},
   "outputs": [],
   "source": [
    "adata = sc.read_h5ad(\"data/adata.h5ad\")"
   ]
  },
  {
   "cell_type": "code",
   "execution_count": 15,
   "id": "85d0828a-9e26-4a25-b750-e55fd29a445e",
   "metadata": {},
   "outputs": [],
   "source": [
    "# adata = adata[:,~np.isin(adata.var.index, [\"C4B-2\", \"C4B_2\"])]"
   ]
  },
  {
   "cell_type": "code",
   "execution_count": 16,
   "id": "be625204-a05f-4ec4-80ed-7ad4407289a4",
   "metadata": {},
   "outputs": [],
   "source": [
    "# adata.write_h5ad(\"data/adata.h5ad\")"
   ]
  },
  {
   "cell_type": "code",
   "execution_count": null,
   "id": "9e5dce45-7e87-4dc0-81fb-02190610a5b3",
   "metadata": {},
   "outputs": [],
   "source": []
  },
  {
   "cell_type": "code",
   "execution_count": null,
   "id": "a750629e-89f1-4495-b50f-471205c6b1a1",
   "metadata": {},
   "outputs": [],
   "source": []
  },
  {
   "cell_type": "markdown",
   "id": "fedb7909-ac53-4465-87f2-e0d089269bda",
   "metadata": {
    "tags": []
   },
   "source": [
    "### Functional enrichment of biological terms"
   ]
  },
  {
   "cell_type": "markdown",
   "id": "f955ded0-458f-4fa2-91cf-65a515201152",
   "metadata": {},
   "source": [
    "While some of these genes might be informative, it is rather hard to make a biological interpretation of what is going on.\n",
    "\n",
    "As such, a simple way to reduce the dimensionality of our data and improve its interpretability is to aggregate it using biologically-meaningful functional terms.\n",
    "\n",
    "A well-known example of such as collection is the `MSigDB` resource, and we will use `ORA` via decoupler as before."
   ]
  },
  {
   "cell_type": "code",
   "execution_count": 17,
   "id": "4f4a90e7-ce91-449b-bf7b-3b7c841319d4",
   "metadata": {},
   "outputs": [],
   "source": [
    "# We Retrieve MSigDB resource via OmniPath\n",
    "msigdb = dc.get_resource('MSigDB')"
   ]
  },
  {
   "cell_type": "markdown",
   "id": "8bb6b68e-f76e-4287-a775-ca7fe6ed0d9a",
   "metadata": {},
   "source": [
    "Then we only keep a desired geneset collection from MSigDB.\n",
    "For example the Hallmark gene sets are a very commonly-used option with specific and well-defined biological sates and processes.\n",
    "\n",
    "MSigDB Hallmakrs represent a type of manually-curated ensemble of gene sets, based on the overlaps of the remainder of MSigDB collections.\n",
    "Hence, they likely represent the least biologically-redudant gene sets in MSigDB."
   ]
  },
  {
   "cell_type": "code",
   "execution_count": 18,
   "id": "5bd5ecc3-1a35-463a-bab3-fd1e7fbadbf8",
   "metadata": {},
   "outputs": [],
   "source": [
    "# Format MSigDB\n",
    "msigdb = msigdb[msigdb['collection']=='hallmark']\n",
    "msigdb.geneset = [x[9:] for x in msigdb.geneset] # remove 'HALLMARK' from name\n",
    "msigdb = msigdb.drop_duplicates(['geneset', 'genesymbol'])\n",
    "msigdb['weight']=1 # placeholder - we will comeback to this"
   ]
  },
  {
   "cell_type": "code",
   "execution_count": null,
   "id": "ab3e53f4-aef6-42f8-a620-36e2e80ed9b5",
   "metadata": {},
   "outputs": [],
   "source": []
  },
  {
   "cell_type": "markdown",
   "id": "9cb27e09-cc7a-4152-a142-ca7d8f932c44",
   "metadata": {},
   "source": [
    "Perhaps, ORA is perhaps the simplest way to obtain biological term enrichments.\n",
    "Thus, we will first make use of the DEGs together with MSigDB to perform ORA /w decoupler."
   ]
  },
  {
   "cell_type": "markdown",
   "id": "16b766e1-c140-453b-8e61-e89c461d2cfd",
   "metadata": {},
   "source": [
    "In this case, we ask simply the question : \n",
    "\"Are there any biologically-meaningful terms that are overrepresented among the most changed genes within each cluster?\".\n",
    "\n",
    "As such, we first need to obtain the significant hits per cluster"
   ]
  },
  {
   "cell_type": "code",
   "execution_count": 19,
   "id": "bd92a2f1-5d51-4d1b-a6ee-fae41af1f9fb",
   "metadata": {},
   "outputs": [],
   "source": [
    "top_genes = dc.format_contrast_results(logFCs, pvals)"
   ]
  },
  {
   "cell_type": "code",
   "execution_count": 20,
   "id": "03b8ed49-7657-4479-bf21-754f661ae461",
   "metadata": {},
   "outputs": [],
   "source": [
    "top_genes = top_genes[(np.abs(top_genes['logFCs']) > 0.5) & (top_genes['pvals'] < 0.05)]"
   ]
  },
  {
   "cell_type": "code",
   "execution_count": 22,
   "id": "8453b3af-b327-463d-9f13-cc4c0a15778d",
   "metadata": {},
   "outputs": [],
   "source": []
  },
  {
   "cell_type": "code",
   "execution_count": 23,
   "id": "daab3de3-0246-46f8-9b7e-630490dff32a",
   "metadata": {},
   "outputs": [
    {
     "data": {
      "text/html": [
       "<div>\n",
       "<style scoped>\n",
       "    .dataframe tbody tr th:only-of-type {\n",
       "        vertical-align: middle;\n",
       "    }\n",
       "\n",
       "    .dataframe tbody tr th {\n",
       "        vertical-align: top;\n",
       "    }\n",
       "\n",
       "    .dataframe thead th {\n",
       "        text-align: right;\n",
       "    }\n",
       "</style>\n",
       "<table border=\"1\" class=\"dataframe\">\n",
       "  <thead>\n",
       "    <tr style=\"text-align: right;\">\n",
       "      <th></th>\n",
       "      <th>ADIPOGENESIS</th>\n",
       "      <th>ALLOGRAFT_REJECTION</th>\n",
       "      <th>ANDROGEN_RESPONSE</th>\n",
       "      <th>APICAL_JUNCTION</th>\n",
       "      <th>APOPTOSIS</th>\n",
       "      <th>CHOLESTEROL_HOMEOSTASIS</th>\n",
       "      <th>COAGULATION</th>\n",
       "      <th>COMPLEMENT</th>\n",
       "      <th>DNA_REPAIR</th>\n",
       "      <th>E2F_TARGETS</th>\n",
       "      <th>...</th>\n",
       "      <th>OXIDATIVE_PHOSPHORYLATION</th>\n",
       "      <th>P53_PATHWAY</th>\n",
       "      <th>PEROXISOME</th>\n",
       "      <th>PROTEIN_SECRETION</th>\n",
       "      <th>REACTIVE_OXYGEN_SPECIES_PATHWAY</th>\n",
       "      <th>TNFA_SIGNALING_VIA_NFKB</th>\n",
       "      <th>UNFOLDED_PROTEIN_RESPONSE</th>\n",
       "      <th>UV_RESPONSE_DN</th>\n",
       "      <th>UV_RESPONSE_UP</th>\n",
       "      <th>XENOBIOTIC_METABOLISM</th>\n",
       "    </tr>\n",
       "  </thead>\n",
       "  <tbody>\n",
       "    <tr>\n",
       "      <th>B cells naive</th>\n",
       "      <td>9.560797e-02</td>\n",
       "      <td>5.547668e-06</td>\n",
       "      <td>0.035246</td>\n",
       "      <td>1.000000</td>\n",
       "      <td>6.255212e-02</td>\n",
       "      <td>0.001041</td>\n",
       "      <td>0.055798</td>\n",
       "      <td>6.435046e-03</td>\n",
       "      <td>5.089518e-07</td>\n",
       "      <td>7.141638e-08</td>\n",
       "      <td>...</td>\n",
       "      <td>1.474607e-02</td>\n",
       "      <td>4.366647e-03</td>\n",
       "      <td>1.000000</td>\n",
       "      <td>0.055798</td>\n",
       "      <td>0.042146</td>\n",
       "      <td>1.522181e-01</td>\n",
       "      <td>0.000075</td>\n",
       "      <td>1.000000</td>\n",
       "      <td>0.102079</td>\n",
       "      <td>1.000000e+00</td>\n",
       "    </tr>\n",
       "    <tr>\n",
       "      <th>Dendritic cells</th>\n",
       "      <td>4.389395e-02</td>\n",
       "      <td>5.305008e-02</td>\n",
       "      <td>0.015900</td>\n",
       "      <td>1.000000</td>\n",
       "      <td>1.000000e+00</td>\n",
       "      <td>1.000000</td>\n",
       "      <td>1.000000</td>\n",
       "      <td>1.000000e+00</td>\n",
       "      <td>1.000000e+00</td>\n",
       "      <td>1.000000e+00</td>\n",
       "      <td>...</td>\n",
       "      <td>1.351901e-06</td>\n",
       "      <td>4.389395e-02</td>\n",
       "      <td>1.000000</td>\n",
       "      <td>1.000000</td>\n",
       "      <td>1.000000</td>\n",
       "      <td>2.442166e-03</td>\n",
       "      <td>0.037742</td>\n",
       "      <td>1.000000</td>\n",
       "      <td>0.001030</td>\n",
       "      <td>1.000000e+00</td>\n",
       "    </tr>\n",
       "    <tr>\n",
       "      <th>Monocytes</th>\n",
       "      <td>8.573011e-07</td>\n",
       "      <td>7.227872e-05</td>\n",
       "      <td>0.066892</td>\n",
       "      <td>0.000086</td>\n",
       "      <td>5.709143e-08</td>\n",
       "      <td>0.003780</td>\n",
       "      <td>0.000002</td>\n",
       "      <td>3.404054e-13</td>\n",
       "      <td>6.881257e-06</td>\n",
       "      <td>5.587472e-05</td>\n",
       "      <td>...</td>\n",
       "      <td>4.529114e-08</td>\n",
       "      <td>8.365609e-04</td>\n",
       "      <td>0.001833</td>\n",
       "      <td>0.004994</td>\n",
       "      <td>0.002724</td>\n",
       "      <td>1.748625e-08</td>\n",
       "      <td>0.000016</td>\n",
       "      <td>0.000086</td>\n",
       "      <td>0.000001</td>\n",
       "      <td>3.028317e-12</td>\n",
       "    </tr>\n",
       "    <tr>\n",
       "      <th>NK cells</th>\n",
       "      <td>1.683496e-07</td>\n",
       "      <td>9.863908e-09</td>\n",
       "      <td>0.048534</td>\n",
       "      <td>0.001982</td>\n",
       "      <td>8.566841e-02</td>\n",
       "      <td>0.001982</td>\n",
       "      <td>0.002625</td>\n",
       "      <td>5.079210e-07</td>\n",
       "      <td>1.867939e-06</td>\n",
       "      <td>3.614337e-07</td>\n",
       "      <td>...</td>\n",
       "      <td>1.174500e-04</td>\n",
       "      <td>2.453462e-09</td>\n",
       "      <td>0.048534</td>\n",
       "      <td>0.000052</td>\n",
       "      <td>0.057956</td>\n",
       "      <td>7.361906e-15</td>\n",
       "      <td>0.112569</td>\n",
       "      <td>0.001982</td>\n",
       "      <td>0.000012</td>\n",
       "      <td>8.566841e-02</td>\n",
       "    </tr>\n",
       "    <tr>\n",
       "      <th>Neutrophils</th>\n",
       "      <td>1.000000e+00</td>\n",
       "      <td>1.000000e+00</td>\n",
       "      <td>1.000000</td>\n",
       "      <td>1.000000</td>\n",
       "      <td>1.000000e+00</td>\n",
       "      <td>1.000000</td>\n",
       "      <td>1.000000</td>\n",
       "      <td>1.000000e+00</td>\n",
       "      <td>1.000000e+00</td>\n",
       "      <td>1.000000e+00</td>\n",
       "      <td>...</td>\n",
       "      <td>1.000000e+00</td>\n",
       "      <td>1.000000e+00</td>\n",
       "      <td>1.000000</td>\n",
       "      <td>1.000000</td>\n",
       "      <td>0.004193</td>\n",
       "      <td>4.795805e-07</td>\n",
       "      <td>0.008370</td>\n",
       "      <td>1.000000</td>\n",
       "      <td>0.000048</td>\n",
       "      <td>1.000000e+00</td>\n",
       "    </tr>\n",
       "    <tr>\n",
       "      <th>T cells</th>\n",
       "      <td>6.536602e-03</td>\n",
       "      <td>9.601501e-03</td>\n",
       "      <td>0.043237</td>\n",
       "      <td>0.000023</td>\n",
       "      <td>2.661745e-03</td>\n",
       "      <td>0.001571</td>\n",
       "      <td>0.068281</td>\n",
       "      <td>1.395696e-01</td>\n",
       "      <td>1.000000e+00</td>\n",
       "      <td>3.448253e-04</td>\n",
       "      <td>...</td>\n",
       "      <td>7.078006e-13</td>\n",
       "      <td>2.270598e-04</td>\n",
       "      <td>0.000757</td>\n",
       "      <td>0.002082</td>\n",
       "      <td>0.001129</td>\n",
       "      <td>1.725631e-02</td>\n",
       "      <td>0.000139</td>\n",
       "      <td>0.001571</td>\n",
       "      <td>0.000282</td>\n",
       "      <td>5.412636e-05</td>\n",
       "    </tr>\n",
       "  </tbody>\n",
       "</table>\n",
       "<p>6 rows × 36 columns</p>\n",
       "</div>"
      ],
      "text/plain": [
       "                 ADIPOGENESIS  ALLOGRAFT_REJECTION  ANDROGEN_RESPONSE  \\\n",
       "B cells naive    9.560797e-02         5.547668e-06           0.035246   \n",
       "Dendritic cells  4.389395e-02         5.305008e-02           0.015900   \n",
       "Monocytes        8.573011e-07         7.227872e-05           0.066892   \n",
       "NK cells         1.683496e-07         9.863908e-09           0.048534   \n",
       "Neutrophils      1.000000e+00         1.000000e+00           1.000000   \n",
       "T cells          6.536602e-03         9.601501e-03           0.043237   \n",
       "\n",
       "                 APICAL_JUNCTION     APOPTOSIS  CHOLESTEROL_HOMEOSTASIS  \\\n",
       "B cells naive           1.000000  6.255212e-02                 0.001041   \n",
       "Dendritic cells         1.000000  1.000000e+00                 1.000000   \n",
       "Monocytes               0.000086  5.709143e-08                 0.003780   \n",
       "NK cells                0.001982  8.566841e-02                 0.001982   \n",
       "Neutrophils             1.000000  1.000000e+00                 1.000000   \n",
       "T cells                 0.000023  2.661745e-03                 0.001571   \n",
       "\n",
       "                 COAGULATION    COMPLEMENT    DNA_REPAIR   E2F_TARGETS  ...  \\\n",
       "B cells naive       0.055798  6.435046e-03  5.089518e-07  7.141638e-08  ...   \n",
       "Dendritic cells     1.000000  1.000000e+00  1.000000e+00  1.000000e+00  ...   \n",
       "Monocytes           0.000002  3.404054e-13  6.881257e-06  5.587472e-05  ...   \n",
       "NK cells            0.002625  5.079210e-07  1.867939e-06  3.614337e-07  ...   \n",
       "Neutrophils         1.000000  1.000000e+00  1.000000e+00  1.000000e+00  ...   \n",
       "T cells             0.068281  1.395696e-01  1.000000e+00  3.448253e-04  ...   \n",
       "\n",
       "                 OXIDATIVE_PHOSPHORYLATION   P53_PATHWAY  PEROXISOME  \\\n",
       "B cells naive                 1.474607e-02  4.366647e-03    1.000000   \n",
       "Dendritic cells               1.351901e-06  4.389395e-02    1.000000   \n",
       "Monocytes                     4.529114e-08  8.365609e-04    0.001833   \n",
       "NK cells                      1.174500e-04  2.453462e-09    0.048534   \n",
       "Neutrophils                   1.000000e+00  1.000000e+00    1.000000   \n",
       "T cells                       7.078006e-13  2.270598e-04    0.000757   \n",
       "\n",
       "                 PROTEIN_SECRETION  REACTIVE_OXYGEN_SPECIES_PATHWAY  \\\n",
       "B cells naive             0.055798                         0.042146   \n",
       "Dendritic cells           1.000000                         1.000000   \n",
       "Monocytes                 0.004994                         0.002724   \n",
       "NK cells                  0.000052                         0.057956   \n",
       "Neutrophils               1.000000                         0.004193   \n",
       "T cells                   0.002082                         0.001129   \n",
       "\n",
       "                 TNFA_SIGNALING_VIA_NFKB  UNFOLDED_PROTEIN_RESPONSE  \\\n",
       "B cells naive               1.522181e-01                   0.000075   \n",
       "Dendritic cells             2.442166e-03                   0.037742   \n",
       "Monocytes                   1.748625e-08                   0.000016   \n",
       "NK cells                    7.361906e-15                   0.112569   \n",
       "Neutrophils                 4.795805e-07                   0.008370   \n",
       "T cells                     1.725631e-02                   0.000139   \n",
       "\n",
       "                 UV_RESPONSE_DN  UV_RESPONSE_UP  XENOBIOTIC_METABOLISM  \n",
       "B cells naive          1.000000        0.102079           1.000000e+00  \n",
       "Dendritic cells        1.000000        0.001030           1.000000e+00  \n",
       "Monocytes              0.000086        0.000001           3.028317e-12  \n",
       "NK cells               0.001982        0.000012           8.566841e-02  \n",
       "Neutrophils            1.000000        0.000048           1.000000e+00  \n",
       "T cells                0.001571        0.000282           5.412636e-05  \n",
       "\n",
       "[6 rows x 36 columns]"
      ]
     },
     "execution_count": 23,
     "metadata": {},
     "output_type": "execute_result"
    }
   ],
   "source": [
    "# Get ORA p-values\n",
    "enr_pvals = dc.get_ora_df(top_genes, msigdb,\n",
    "                          groupby='contrast', features='name',\n",
    "                          source='geneset', target='genesymbol')\n",
    "enr_pvals"
   ]
  },
  {
   "cell_type": "code",
   "execution_count": 24,
   "id": "327d9f8a-6b73-42ba-a411-80d200e401b3",
   "metadata": {},
   "outputs": [],
   "source": [
    "# Set 0s to min p-value & log-transform\n",
    "enr_pvals.values[enr_pvals.values == 0] = np.min(enr_pvals.values[enr_pvals.values != 0])\n",
    "enr_pvals = -np.log10(enr_pvals)"
   ]
  },
  {
   "cell_type": "code",
   "execution_count": null,
   "id": "e4d987b5-7161-419f-bd09-250292ee0763",
   "metadata": {},
   "outputs": [],
   "source": []
  },
  {
   "cell_type": "code",
   "execution_count": 25,
   "id": "930a29a1-54a4-40b1-9f7a-5faaa5d22683",
   "metadata": {},
   "outputs": [
    {
     "data": {
      "image/png": "[encoded data removed]",
      "text/plain": [
       "<Figure size 720x720 with 4 Axes>"
      ]
     },
     "metadata": {
      "needs_background": "light"
     },
     "output_type": "display_data"
    }
   ],
   "source": [
    "# Get top 10 most over-represented gene sets\n",
    "top = 10\n",
    "top_idxs = set()\n",
    "for row in enr_pvals.values:\n",
    "    sort_idxs = np.argsort(-np.abs(row))\n",
    "    top_idxs.update(sort_idxs[:top])\n",
    "top_idxs = np.array(list(top_idxs))\n",
    "top_names = enr_pvals.columns[top_idxs]\n",
    "names = enr_pvals.index.values\n",
    "top = pd.DataFrame(enr_pvals.values[:, top_idxs], columns=top_names, index=names)\n",
    "\n",
    "# Plot\n",
    "sns.clustermap(top.T, cmap='viridis', vmax=10)\n",
    "plt.show()"
   ]
  },
  {
   "cell_type": "code",
   "execution_count": null,
   "id": "02b24e2b-c74b-4f03-bf8e-121a7b00442f",
   "metadata": {},
   "outputs": [],
   "source": []
  },
  {
   "cell_type": "markdown",
   "id": "87981383-49b4-426e-baec-112bc106209c",
   "metadata": {},
   "source": [
    "### Enrichment Analysis"
   ]
  },
  {
   "cell_type": "code",
   "execution_count": 26,
   "id": "2c6f4640-43d7-414a-a5f8-55f7f5e8adca",
   "metadata": {},
   "outputs": [],
   "source": [
    "def plot_topheat(acts, top=10, **kwargs):\n",
    "    # Set nans to zero to be able to plot\n",
    "    acts.fillna(0, inplace=True)\n",
    "\n",
    "    # Get top 10 most active/inactive sources\n",
    "    top_idxs = set()\n",
    "    for row in acts.values:\n",
    "        sort_idxs = np.argsort(-np.abs(row))\n",
    "        top_idxs.update(sort_idxs[:top])\n",
    "    top_idxs = np.array(list(top_idxs))\n",
    "    top_names = acts.columns[top_idxs]\n",
    "    names = acts.index.values\n",
    "    top = pd.DataFrame(acts.values[:,top_idxs], columns=top_names, index=names)\n",
    "\n",
    "    # Plot\n",
    "    sns.clustermap(top.T, center=0, cmap='coolwarm', **kwargs)\n",
    "    plt.show()"
   ]
  },
  {
   "cell_type": "code",
   "execution_count": null,
   "id": "42a19ee8-74b9-4e56-9716-cd688c7919d5",
   "metadata": {},
   "outputs": [],
   "source": []
  },
  {
   "cell_type": "markdown",
   "id": "18f23e53-a49d-446d-912a-84dcf0c743b6",
   "metadata": {},
   "source": [
    "As a way to distance ourselves away from using arbitrary thresholds for the genes of interest, \n",
    "such as the ones defined above for p-value and logFC,\n",
    "we could alternatively run `GSEA` (Gene Set Enrichment Analysis). \n",
    "\n",
    "GSEA's main advantages over ORA is that it considers all genes in the dataset, and takes both extremes into account - i.e. both genes with high and low ranking simultaneously."
   ]
  },
  {
   "cell_type": "code",
   "execution_count": 27,
   "id": "982cea7e-e7f7-4d0e-9a61-6c74242cc74a",
   "metadata": {},
   "outputs": [
    {
     "name": "stderr",
     "output_type": "stream",
     "text": [
      "  0%|          | 0/1 [00:00<?, ?it/s]"
     ]
    },
    {
     "name": "stdout",
     "output_type": "stream",
     "text": [
      "Running gsea on mat with 6 samples and 7365 targets for 50 sources.\n"
     ]
    },
    {
     "name": "stderr",
     "output_type": "stream",
     "text": [
      "100%|██████████| 1/1 [00:01<00:00,  1.56s/it]\n"
     ]
    }
   ],
   "source": [
    "# Infer pathway activities with mlm\n",
    "msigdb_scores, msigdb_nscores, msigdb_pvals  = dc.run_gsea(mat=logFCs,\n",
    "                                                           source='geneset',\n",
    "                                                           target='genesymbol',\n",
    "                                                           net=msigdb,\n",
    "                                                           verbose=True)"
   ]
  },
  {
   "cell_type": "markdown",
   "id": "00c78aa1-8552-433e-9334-5dfe379eb570",
   "metadata": {},
   "source": [
    "In this case, we can observe the over- and downregulated genesets between the conditions simultaneously. \n",
    "\n",
    "In particular, we use the normalized enrichment scores from GSEA, which represents both the sign and the statistical deviation of change."
   ]
  },
  {
   "cell_type": "code",
   "execution_count": 28,
   "id": "82a0a410-8bc0-4a3c-b0ee-13d385b872e6",
   "metadata": {},
   "outputs": [
    {
     "data": {
      "image/png": "[encoded data removed]",
      "text/plain": [
       "<Figure size 720x720 with 4 Axes>"
      ]
     },
     "metadata": {
      "needs_background": "light"
     },
     "output_type": "display_data"
    }
   ],
   "source": [
    "# Set nans to zero to be able to plot\n",
    "msigdb_nscores.fillna(0, inplace=True)\n",
    "\n",
    "sns.clustermap(msigdb_nscores.T, center=0, cmap='coolwarm')\n",
    "plt.show()"
   ]
  },
  {
   "cell_type": "code",
   "execution_count": null,
   "id": "2b5ed57e-fd37-4aa4-b6b8-82b23a080b5d",
   "metadata": {},
   "outputs": [],
   "source": []
  },
  {
   "cell_type": "code",
   "execution_count": null,
   "id": "8164774e-fead-4d7a-ab3c-f6b4cff1049d",
   "metadata": {},
   "outputs": [],
   "source": []
  },
  {
   "cell_type": "markdown",
   "id": "81ce09a5-8a9d-4939-8c83-052341c0ae3e",
   "metadata": {},
   "source": [
    "## Transcription factor and cytokine activity estimation from prior-knowledge footprints"
   ]
  },
  {
   "cell_type": "markdown",
   "id": "5b96c692-d87a-4549-94c5-4c742059b92d",
   "metadata": {},
   "source": [
    "As a next step, we will introduce a percieved improvement in both the resource and methodology.\n",
    "\n",
    "Namely, classical GEO terms or gene sets focus on genes typically thought to be part of the same process.\n",
    "Instead, one could use genes which change in response to a given entity, to estimate the 'activity' of that entity. \n",
    "We term such a collection of genes a `footprint`.\n",
    "\n",
    "Perhaps, the most classical example of footprints using the expression of genes, which are part of the regulon of a transcription factor (TF).\n",
    "\n",
    "Here, we will use a collection of manually-curated TFs, called [DoRothEA]().\n",
    "\n",
    "Something specific about DoRothEA is that it comes with weights for each TF target, which represent both the quality of annotation, but also the sign of interaction.\n",
    "In other words, we are no longer asume that all genes in a gene set are equally-imporant, and we also take into account whether a gene can be negatively associated with a given gene set (or in our case TF).\n",
    "\n",
    "In this case, we will use the very simple weighted mean (`wmean`) method to take both the magnitude of change (logFC) and the sign of the TF-target interactions into account."
   ]
  },
  {
   "cell_type": "code",
   "execution_count": 29,
   "id": "015b77e9-2514-4d2b-aec1-f33ae1699a21",
   "metadata": {},
   "outputs": [],
   "source": [
    "# Retrieve DoRothEA gene regulatory network\n",
    "dorothea = dc.get_dorothea()"
   ]
  },
  {
   "cell_type": "code",
   "execution_count": 30,
   "id": "95105f3a-c8bd-42df-ae47-afabed62ba0b",
   "metadata": {},
   "outputs": [
    {
     "name": "stderr",
     "output_type": "stream",
     "text": [
      "  0%|          | 0/6 [00:00<?, ?it/s]"
     ]
    },
    {
     "name": "stdout",
     "output_type": "stream",
     "text": [
      "Dense run of wmean on mat with 6 samples and 7365 potential targets.\n"
     ]
    },
    {
     "name": "stderr",
     "output_type": "stream",
     "text": [
      "100%|██████████| 6/6 [00:14<00:00,  2.46s/it]\n"
     ]
    },
    {
     "data": {
      "text/html": [
       "<div>\n",
       "<style scoped>\n",
       "    .dataframe tbody tr th:only-of-type {\n",
       "        vertical-align: middle;\n",
       "    }\n",
       "\n",
       "    .dataframe tbody tr th {\n",
       "        vertical-align: top;\n",
       "    }\n",
       "\n",
       "    .dataframe thead th {\n",
       "        text-align: right;\n",
       "    }\n",
       "</style>\n",
       "<table border=\"1\" class=\"dataframe\">\n",
       "  <thead>\n",
       "    <tr style=\"text-align: right;\">\n",
       "      <th></th>\n",
       "      <th>AHR</th>\n",
       "      <th>AR</th>\n",
       "      <th>ARID2</th>\n",
       "      <th>ARID3A</th>\n",
       "      <th>ARNT</th>\n",
       "      <th>ARNTL</th>\n",
       "      <th>ASCL1</th>\n",
       "      <th>ATF1</th>\n",
       "      <th>ATF2</th>\n",
       "      <th>ATF3</th>\n",
       "      <th>...</th>\n",
       "      <th>MBD2</th>\n",
       "      <th>NR1H3</th>\n",
       "      <th>REL</th>\n",
       "      <th>SATB1</th>\n",
       "      <th>SIX5</th>\n",
       "      <th>STAT4</th>\n",
       "      <th>XBP1</th>\n",
       "      <th>ZNF24</th>\n",
       "      <th>ZNF584</th>\n",
       "      <th>GLI2</th>\n",
       "    </tr>\n",
       "  </thead>\n",
       "  <tbody>\n",
       "    <tr>\n",
       "      <th>B cells naive</th>\n",
       "      <td>0.048451</td>\n",
       "      <td>-0.220316</td>\n",
       "      <td>0.022527</td>\n",
       "      <td>-0.193122</td>\n",
       "      <td>-0.141473</td>\n",
       "      <td>-0.070239</td>\n",
       "      <td>-0.006619</td>\n",
       "      <td>-0.000919</td>\n",
       "      <td>-0.289555</td>\n",
       "      <td>0.180772</td>\n",
       "      <td>...</td>\n",
       "      <td>NaN</td>\n",
       "      <td>NaN</td>\n",
       "      <td>NaN</td>\n",
       "      <td>NaN</td>\n",
       "      <td>NaN</td>\n",
       "      <td>NaN</td>\n",
       "      <td>NaN</td>\n",
       "      <td>NaN</td>\n",
       "      <td>NaN</td>\n",
       "      <td>NaN</td>\n",
       "    </tr>\n",
       "    <tr>\n",
       "      <th>Dendritic cells</th>\n",
       "      <td>NaN</td>\n",
       "      <td>-0.110520</td>\n",
       "      <td>NaN</td>\n",
       "      <td>NaN</td>\n",
       "      <td>NaN</td>\n",
       "      <td>NaN</td>\n",
       "      <td>NaN</td>\n",
       "      <td>-0.589753</td>\n",
       "      <td>-0.210900</td>\n",
       "      <td>0.340078</td>\n",
       "      <td>...</td>\n",
       "      <td>NaN</td>\n",
       "      <td>NaN</td>\n",
       "      <td>NaN</td>\n",
       "      <td>NaN</td>\n",
       "      <td>NaN</td>\n",
       "      <td>NaN</td>\n",
       "      <td>NaN</td>\n",
       "      <td>NaN</td>\n",
       "      <td>NaN</td>\n",
       "      <td>NaN</td>\n",
       "    </tr>\n",
       "    <tr>\n",
       "      <th>Monocytes</th>\n",
       "      <td>0.194535</td>\n",
       "      <td>0.020045</td>\n",
       "      <td>-0.018355</td>\n",
       "      <td>-0.029965</td>\n",
       "      <td>0.012350</td>\n",
       "      <td>-0.508835</td>\n",
       "      <td>0.050598</td>\n",
       "      <td>-0.050834</td>\n",
       "      <td>-0.187321</td>\n",
       "      <td>-0.142997</td>\n",
       "      <td>...</td>\n",
       "      <td>0.394623</td>\n",
       "      <td>-0.631346</td>\n",
       "      <td>-0.647641</td>\n",
       "      <td>0.136645</td>\n",
       "      <td>-0.154337</td>\n",
       "      <td>-0.072380</td>\n",
       "      <td>0.154863</td>\n",
       "      <td>-0.169072</td>\n",
       "      <td>0.308863</td>\n",
       "      <td>NaN</td>\n",
       "    </tr>\n",
       "    <tr>\n",
       "      <th>NK cells</th>\n",
       "      <td>-0.117392</td>\n",
       "      <td>0.026009</td>\n",
       "      <td>0.086709</td>\n",
       "      <td>0.375800</td>\n",
       "      <td>0.064382</td>\n",
       "      <td>-0.184523</td>\n",
       "      <td>0.017556</td>\n",
       "      <td>0.014139</td>\n",
       "      <td>-0.338242</td>\n",
       "      <td>-0.049187</td>\n",
       "      <td>...</td>\n",
       "      <td>NaN</td>\n",
       "      <td>NaN</td>\n",
       "      <td>-0.951199</td>\n",
       "      <td>-0.049095</td>\n",
       "      <td>NaN</td>\n",
       "      <td>-0.114676</td>\n",
       "      <td>NaN</td>\n",
       "      <td>NaN</td>\n",
       "      <td>NaN</td>\n",
       "      <td>NaN</td>\n",
       "    </tr>\n",
       "    <tr>\n",
       "      <th>Neutrophils</th>\n",
       "      <td>-0.028399</td>\n",
       "      <td>0.425490</td>\n",
       "      <td>-0.503968</td>\n",
       "      <td>NaN</td>\n",
       "      <td>-0.111515</td>\n",
       "      <td>NaN</td>\n",
       "      <td>NaN</td>\n",
       "      <td>0.052548</td>\n",
       "      <td>-0.426150</td>\n",
       "      <td>0.229508</td>\n",
       "      <td>...</td>\n",
       "      <td>NaN</td>\n",
       "      <td>NaN</td>\n",
       "      <td>-0.357195</td>\n",
       "      <td>NaN</td>\n",
       "      <td>NaN</td>\n",
       "      <td>NaN</td>\n",
       "      <td>NaN</td>\n",
       "      <td>NaN</td>\n",
       "      <td>NaN</td>\n",
       "      <td>NaN</td>\n",
       "    </tr>\n",
       "    <tr>\n",
       "      <th>T cells</th>\n",
       "      <td>0.004382</td>\n",
       "      <td>0.024664</td>\n",
       "      <td>-0.190887</td>\n",
       "      <td>0.084539</td>\n",
       "      <td>0.035942</td>\n",
       "      <td>-0.560573</td>\n",
       "      <td>-0.140504</td>\n",
       "      <td>-0.096926</td>\n",
       "      <td>-0.352537</td>\n",
       "      <td>-0.150893</td>\n",
       "      <td>...</td>\n",
       "      <td>NaN</td>\n",
       "      <td>NaN</td>\n",
       "      <td>NaN</td>\n",
       "      <td>-0.252507</td>\n",
       "      <td>NaN</td>\n",
       "      <td>0.119322</td>\n",
       "      <td>0.104840</td>\n",
       "      <td>NaN</td>\n",
       "      <td>NaN</td>\n",
       "      <td>-0.061723</td>\n",
       "    </tr>\n",
       "  </tbody>\n",
       "</table>\n",
       "<p>6 rows × 271 columns</p>\n",
       "</div>"
      ],
      "text/plain": [
       "                      AHR        AR     ARID2    ARID3A      ARNT     ARNTL  \\\n",
       "B cells naive    0.048451 -0.220316  0.022527 -0.193122 -0.141473 -0.070239   \n",
       "Dendritic cells       NaN -0.110520       NaN       NaN       NaN       NaN   \n",
       "Monocytes        0.194535  0.020045 -0.018355 -0.029965  0.012350 -0.508835   \n",
       "NK cells        -0.117392  0.026009  0.086709  0.375800  0.064382 -0.184523   \n",
       "Neutrophils     -0.028399  0.425490 -0.503968       NaN -0.111515       NaN   \n",
       "T cells          0.004382  0.024664 -0.190887  0.084539  0.035942 -0.560573   \n",
       "\n",
       "                    ASCL1      ATF1      ATF2      ATF3  ...      MBD2  \\\n",
       "B cells naive   -0.006619 -0.000919 -0.289555  0.180772  ...       NaN   \n",
       "Dendritic cells       NaN -0.589753 -0.210900  0.340078  ...       NaN   \n",
       "Monocytes        0.050598 -0.050834 -0.187321 -0.142997  ...  0.394623   \n",
       "NK cells         0.017556  0.014139 -0.338242 -0.049187  ...       NaN   \n",
       "Neutrophils           NaN  0.052548 -0.426150  0.229508  ...       NaN   \n",
       "T cells         -0.140504 -0.096926 -0.352537 -0.150893  ...       NaN   \n",
       "\n",
       "                    NR1H3       REL     SATB1      SIX5     STAT4      XBP1  \\\n",
       "B cells naive         NaN       NaN       NaN       NaN       NaN       NaN   \n",
       "Dendritic cells       NaN       NaN       NaN       NaN       NaN       NaN   \n",
       "Monocytes       -0.631346 -0.647641  0.136645 -0.154337 -0.072380  0.154863   \n",
       "NK cells              NaN -0.951199 -0.049095       NaN -0.114676       NaN   \n",
       "Neutrophils           NaN -0.357195       NaN       NaN       NaN       NaN   \n",
       "T cells               NaN       NaN -0.252507       NaN  0.119322  0.104840   \n",
       "\n",
       "                    ZNF24    ZNF584      GLI2  \n",
       "B cells naive         NaN       NaN       NaN  \n",
       "Dendritic cells       NaN       NaN       NaN  \n",
       "Monocytes       -0.169072  0.308863       NaN  \n",
       "NK cells              NaN       NaN       NaN  \n",
       "Neutrophils           NaN       NaN       NaN  \n",
       "T cells               NaN       NaN -0.061723  \n",
       "\n",
       "[6 rows x 271 columns]"
      ]
     },
     "execution_count": 30,
     "metadata": {},
     "output_type": "execute_result"
    }
   ],
   "source": [
    "tf_acts, tf_pvals = dc.dense_run(dc.run_wmean, mat=logFCs, net=dorothea, verbose=True)\n",
    "tf_acts"
   ]
  },
  {
   "cell_type": "code",
   "execution_count": 31,
   "id": "e50e34c5-c6ab-44e1-bd17-71245f44e259",
   "metadata": {},
   "outputs": [
    {
     "data": {
      "image/png": "[encoded data removed]",
      "text/plain": [
       "<Figure size 720x720 with 4 Axes>"
      ]
     },
     "metadata": {
      "needs_background": "light"
     },
     "output_type": "display_data"
    }
   ],
   "source": [
    "plot_topheat(tf_acts, vmax=2)"
   ]
  },
  {
   "cell_type": "markdown",
   "id": "89f28f75-99ae-4a8c-8fe6-ae1add504046",
   "metadata": {},
   "source": [
    "Hmmm, perhaps it looks a bit underwhelming?\n",
    "Does this mean that there is no change in TF activity or do you think that perhaps we should use a more complited method?\n",
    "\n",
    "Let's come back to this! :)"
   ]
  },
  {
   "cell_type": "code",
   "execution_count": null,
   "id": "ce965771-d8b5-4e87-9ebd-561f5abe770b",
   "metadata": {},
   "outputs": [],
   "source": []
  },
  {
   "cell_type": "code",
   "execution_count": null,
   "id": "ab3e737e-7ce8-461c-a79c-29d67b8998f0",
   "metadata": {},
   "outputs": [],
   "source": []
  },
  {
   "cell_type": "markdown",
   "id": "385cbf5d-d134-42f1-b359-01fd2daa65a1",
   "metadata": {},
   "source": [
    "### Cytokine activity inference\n",
    "\n",
    "To estimate pathway activities we will use [CytoSig's resource](https://www.nature.com/articles/s41592-021-01274-5), a data-driven compedium of high-quality Cytokine Signatures. \n",
    "\n",
    "Cytokines often exhibit pleiotropic interactions that depend heavily on cell-type-specificity, but also the activity of other biological components, including other cytokines.\n",
    "To this end, one could also consider attempting to address for these complicated relationships between cytokines.\n",
    "\n",
    "Perhaps, the simplest way to achieve this is to fit a multi-variate model (mlm), which inherintly take co-linearity into account.\n",
    "\n",
    "In a recent benchmark, we saw that `mlm` yielded the best performance when using transcription factor pertrubation experiments."
   ]
  },
  {
   "cell_type": "code",
   "execution_count": 32,
   "id": "73fe7275-b9fe-45d9-924b-e183dd7ad038",
   "metadata": {},
   "outputs": [],
   "source": [
    "# Read CytoSig signatures\n",
    "# Keep top 500 genes\n",
    "cytosig = pd.read_csv(\"data/cytosig_signatures.csv\")\n",
    "# Keep highest 500 weights per gene set\n",
    "cytosig = cytosig.sort_values(by='weight', key=abs, ascending=False).groupby('source').head(500).sort_values(['source', 'weight']).reset_index()"
   ]
  },
  {
   "cell_type": "code",
   "execution_count": null,
   "id": "5a0bec5a-ddd0-4a3a-9ed7-fb307f8e1d10",
   "metadata": {},
   "outputs": [],
   "source": []
  },
  {
   "cell_type": "code",
   "execution_count": 33,
   "id": "d48868b3-919b-47fe-969d-792a1a14f68a",
   "metadata": {},
   "outputs": [
    {
     "name": "stderr",
     "output_type": "stream",
     "text": [
      "  0%|          | 0/6 [00:00<?, ?it/s]"
     ]
    },
    {
     "name": "stdout",
     "output_type": "stream",
     "text": [
      "Dense run of mlm on mat with 6 samples and 7365 potential targets.\n"
     ]
    },
    {
     "name": "stderr",
     "output_type": "stream",
     "text": [
      "100%|██████████| 6/6 [00:01<00:00,  5.40it/s]\n"
     ]
    },
    {
     "data": {
      "text/html": [
       "<div>\n",
       "<style scoped>\n",
       "    .dataframe tbody tr th:only-of-type {\n",
       "        vertical-align: middle;\n",
       "    }\n",
       "\n",
       "    .dataframe tbody tr th {\n",
       "        vertical-align: top;\n",
       "    }\n",
       "\n",
       "    .dataframe thead th {\n",
       "        text-align: right;\n",
       "    }\n",
       "</style>\n",
       "<table border=\"1\" class=\"dataframe\">\n",
       "  <thead>\n",
       "    <tr style=\"text-align: right;\">\n",
       "      <th></th>\n",
       "      <th>Activin_A</th>\n",
       "      <th>BDNF</th>\n",
       "      <th>BMP2</th>\n",
       "      <th>BMP4</th>\n",
       "      <th>BMP6</th>\n",
       "      <th>CD40L</th>\n",
       "      <th>CXCL12</th>\n",
       "      <th>EGF</th>\n",
       "      <th>FGF2</th>\n",
       "      <th>GCSF</th>\n",
       "      <th>...</th>\n",
       "      <th>MCSF</th>\n",
       "      <th>NO</th>\n",
       "      <th>OSM</th>\n",
       "      <th>TGFB1</th>\n",
       "      <th>TGFB3</th>\n",
       "      <th>TNFA</th>\n",
       "      <th>TRAIL</th>\n",
       "      <th>TWEAK</th>\n",
       "      <th>VEGFA</th>\n",
       "      <th>WNT3A</th>\n",
       "    </tr>\n",
       "  </thead>\n",
       "  <tbody>\n",
       "    <tr>\n",
       "      <th>B cells naive</th>\n",
       "      <td>0.103343</td>\n",
       "      <td>0.088344</td>\n",
       "      <td>-0.487874</td>\n",
       "      <td>-0.167773</td>\n",
       "      <td>0.927034</td>\n",
       "      <td>-0.211387</td>\n",
       "      <td>-0.571410</td>\n",
       "      <td>0.052457</td>\n",
       "      <td>-0.420823</td>\n",
       "      <td>-0.033087</td>\n",
       "      <td>...</td>\n",
       "      <td>0.216400</td>\n",
       "      <td>0.592170</td>\n",
       "      <td>0.253867</td>\n",
       "      <td>-0.876986</td>\n",
       "      <td>-0.747698</td>\n",
       "      <td>0.602610</td>\n",
       "      <td>-0.599335</td>\n",
       "      <td>0.008456</td>\n",
       "      <td>-0.227078</td>\n",
       "      <td>-0.440776</td>\n",
       "    </tr>\n",
       "    <tr>\n",
       "      <th>Dendritic cells</th>\n",
       "      <td>-0.392105</td>\n",
       "      <td>0.195357</td>\n",
       "      <td>1.358259</td>\n",
       "      <td>0.116114</td>\n",
       "      <td>1.374251</td>\n",
       "      <td>0.250910</td>\n",
       "      <td>-0.179062</td>\n",
       "      <td>0.541323</td>\n",
       "      <td>-0.546982</td>\n",
       "      <td>-0.605623</td>\n",
       "      <td>...</td>\n",
       "      <td>0.117682</td>\n",
       "      <td>0.364183</td>\n",
       "      <td>0.379369</td>\n",
       "      <td>-0.854595</td>\n",
       "      <td>-0.425177</td>\n",
       "      <td>-0.763425</td>\n",
       "      <td>-0.673597</td>\n",
       "      <td>1.162662</td>\n",
       "      <td>-1.491487</td>\n",
       "      <td>0.425105</td>\n",
       "    </tr>\n",
       "    <tr>\n",
       "      <th>Monocytes</th>\n",
       "      <td>-1.177800</td>\n",
       "      <td>1.713925</td>\n",
       "      <td>0.438258</td>\n",
       "      <td>-0.891486</td>\n",
       "      <td>0.390743</td>\n",
       "      <td>-0.340372</td>\n",
       "      <td>0.228965</td>\n",
       "      <td>-1.182189</td>\n",
       "      <td>-1.589064</td>\n",
       "      <td>-0.058647</td>\n",
       "      <td>...</td>\n",
       "      <td>1.320744</td>\n",
       "      <td>-0.655802</td>\n",
       "      <td>0.680301</td>\n",
       "      <td>-0.911689</td>\n",
       "      <td>-1.095117</td>\n",
       "      <td>-1.171445</td>\n",
       "      <td>-1.951192</td>\n",
       "      <td>0.544634</td>\n",
       "      <td>-3.480886</td>\n",
       "      <td>1.704982</td>\n",
       "    </tr>\n",
       "    <tr>\n",
       "      <th>NK cells</th>\n",
       "      <td>0.072449</td>\n",
       "      <td>-1.127240</td>\n",
       "      <td>-0.787223</td>\n",
       "      <td>0.088773</td>\n",
       "      <td>1.527272</td>\n",
       "      <td>-1.668475</td>\n",
       "      <td>-2.058769</td>\n",
       "      <td>-1.716733</td>\n",
       "      <td>1.609551</td>\n",
       "      <td>0.472793</td>\n",
       "      <td>...</td>\n",
       "      <td>0.219221</td>\n",
       "      <td>-0.784263</td>\n",
       "      <td>-0.271689</td>\n",
       "      <td>-1.032895</td>\n",
       "      <td>-3.026203</td>\n",
       "      <td>0.143239</td>\n",
       "      <td>-2.096663</td>\n",
       "      <td>-1.479159</td>\n",
       "      <td>-1.247483</td>\n",
       "      <td>0.355224</td>\n",
       "    </tr>\n",
       "    <tr>\n",
       "      <th>Neutrophils</th>\n",
       "      <td>1.056036</td>\n",
       "      <td>-0.910409</td>\n",
       "      <td>0.050724</td>\n",
       "      <td>-0.194506</td>\n",
       "      <td>0.021242</td>\n",
       "      <td>-1.333803</td>\n",
       "      <td>0.200197</td>\n",
       "      <td>1.625729</td>\n",
       "      <td>1.545410</td>\n",
       "      <td>0.734852</td>\n",
       "      <td>...</td>\n",
       "      <td>1.816210</td>\n",
       "      <td>0.143547</td>\n",
       "      <td>-1.532503</td>\n",
       "      <td>-0.308935</td>\n",
       "      <td>-0.633609</td>\n",
       "      <td>2.221681</td>\n",
       "      <td>0.846012</td>\n",
       "      <td>-0.101302</td>\n",
       "      <td>-2.383634</td>\n",
       "      <td>0.563390</td>\n",
       "    </tr>\n",
       "    <tr>\n",
       "      <th>T cells</th>\n",
       "      <td>0.899331</td>\n",
       "      <td>-0.003114</td>\n",
       "      <td>-1.685433</td>\n",
       "      <td>-0.855828</td>\n",
       "      <td>-0.193560</td>\n",
       "      <td>-3.179074</td>\n",
       "      <td>-0.712767</td>\n",
       "      <td>-3.538424</td>\n",
       "      <td>-0.167843</td>\n",
       "      <td>-1.335592</td>\n",
       "      <td>...</td>\n",
       "      <td>0.279498</td>\n",
       "      <td>-1.564574</td>\n",
       "      <td>2.670645</td>\n",
       "      <td>-0.598138</td>\n",
       "      <td>-4.136490</td>\n",
       "      <td>0.445995</td>\n",
       "      <td>-2.100523</td>\n",
       "      <td>0.241948</td>\n",
       "      <td>-2.418213</td>\n",
       "      <td>0.749680</td>\n",
       "    </tr>\n",
       "  </tbody>\n",
       "</table>\n",
       "<p>6 rows × 43 columns</p>\n",
       "</div>"
      ],
      "text/plain": [
       "                 Activin_A      BDNF      BMP2      BMP4      BMP6     CD40L  \\\n",
       "B cells naive     0.103343  0.088344 -0.487874 -0.167773  0.927034 -0.211387   \n",
       "Dendritic cells  -0.392105  0.195357  1.358259  0.116114  1.374251  0.250910   \n",
       "Monocytes        -1.177800  1.713925  0.438258 -0.891486  0.390743 -0.340372   \n",
       "NK cells          0.072449 -1.127240 -0.787223  0.088773  1.527272 -1.668475   \n",
       "Neutrophils       1.056036 -0.910409  0.050724 -0.194506  0.021242 -1.333803   \n",
       "T cells           0.899331 -0.003114 -1.685433 -0.855828 -0.193560 -3.179074   \n",
       "\n",
       "                   CXCL12       EGF      FGF2      GCSF  ...      MCSF  \\\n",
       "B cells naive   -0.571410  0.052457 -0.420823 -0.033087  ...  0.216400   \n",
       "Dendritic cells -0.179062  0.541323 -0.546982 -0.605623  ...  0.117682   \n",
       "Monocytes        0.228965 -1.182189 -1.589064 -0.058647  ...  1.320744   \n",
       "NK cells        -2.058769 -1.716733  1.609551  0.472793  ...  0.219221   \n",
       "Neutrophils      0.200197  1.625729  1.545410  0.734852  ...  1.816210   \n",
       "T cells         -0.712767 -3.538424 -0.167843 -1.335592  ...  0.279498   \n",
       "\n",
       "                       NO       OSM     TGFB1     TGFB3      TNFA     TRAIL  \\\n",
       "B cells naive    0.592170  0.253867 -0.876986 -0.747698  0.602610 -0.599335   \n",
       "Dendritic cells  0.364183  0.379369 -0.854595 -0.425177 -0.763425 -0.673597   \n",
       "Monocytes       -0.655802  0.680301 -0.911689 -1.095117 -1.171445 -1.951192   \n",
       "NK cells        -0.784263 -0.271689 -1.032895 -3.026203  0.143239 -2.096663   \n",
       "Neutrophils      0.143547 -1.532503 -0.308935 -0.633609  2.221681  0.846012   \n",
       "T cells         -1.564574  2.670645 -0.598138 -4.136490  0.445995 -2.100523   \n",
       "\n",
       "                    TWEAK     VEGFA     WNT3A  \n",
       "B cells naive    0.008456 -0.227078 -0.440776  \n",
       "Dendritic cells  1.162662 -1.491487  0.425105  \n",
       "Monocytes        0.544634 -3.480886  1.704982  \n",
       "NK cells        -1.479159 -1.247483  0.355224  \n",
       "Neutrophils     -0.101302 -2.383634  0.563390  \n",
       "T cells          0.241948 -2.418213  0.749680  \n",
       "\n",
       "[6 rows x 43 columns]"
      ]
     },
     "execution_count": 33,
     "metadata": {},
     "output_type": "execute_result"
    }
   ],
   "source": [
    "# Infer pathway activities with mlm\n",
    "cyto_acts, pathway_pvals = dc.dense_run(dc.run_mlm, mat=logFCs, net=cytosig, verbose=True)\n",
    "cyto_acts"
   ]
  },
  {
   "cell_type": "code",
   "execution_count": null,
   "id": "1075ebaa-106f-499c-8752-7a5ad3ac9774",
   "metadata": {},
   "outputs": [],
   "source": []
  },
  {
   "cell_type": "code",
   "execution_count": 34,
   "id": "61391df2-dac6-424c-b748-d2be34c77cad",
   "metadata": {},
   "outputs": [
    {
     "data": {
      "image/png": "[encoded data removed]",
      "text/plain": [
       "<Figure size 720x720 with 4 Axes>"
      ]
     },
     "metadata": {
      "needs_background": "light"
     },
     "output_type": "display_data"
    }
   ],
   "source": [
    "# Plot enrichment (here we plot the t-values of the coefficients)\n",
    "plot_topheat(cyto_acts, vmax=3)"
   ]
  },
  {
   "cell_type": "markdown",
   "id": "7018f606-a7e2-46ff-ab71-ef9a03ea0819",
   "metadata": {},
   "source": [
    "D) We see multiple down- and up-regulated Cytokines across the cell types, can we tie those to the results above?"
   ]
  },
  {
   "cell_type": "code",
   "execution_count": null,
   "id": "95e7f6ec-99cf-48a2-9a26-b3a84c4f0514",
   "metadata": {},
   "outputs": [],
   "source": []
  },
  {
   "cell_type": "markdown",
   "id": "7cd30483-0a75-4884-81b7-a36bbaeb4fc5",
   "metadata": {},
   "source": [
    "Q) Do you think that a simple linear model can capture the vast biological complexity?"
   ]
  },
  {
   "cell_type": "code",
   "execution_count": null,
   "id": "1bd3d2b0-0f6b-42f0-9e61-6b02a19c9872",
   "metadata": {},
   "outputs": [],
   "source": []
  },
  {
   "cell_type": "code",
   "execution_count": null,
   "id": "2155dc28-acc0-4c06-afbb-d7ac69a87415",
   "metadata": {},
   "outputs": [],
   "source": []
  },
  {
   "cell_type": "code",
   "execution_count": null,
   "id": "f9574cd6-c808-4590-af37-a6396a444cb8",
   "metadata": {},
   "outputs": [],
   "source": []
  },
  {
   "cell_type": "markdown",
   "id": "d7a408e5-22f5-416f-abd3-fbd19a9de812",
   "metadata": {},
   "source": [
    "Finally, let's come back to the underwhelming TF results that we saw earlier.\n",
    "\n",
    "Perhaps, we could make use of the multitude of methods in decoupleR to obtain better results!"
   ]
  },
  {
   "cell_type": "code",
   "execution_count": 35,
   "id": "678ef8bf-093a-4f0f-9ecc-aa9e12ff2ef2",
   "metadata": {},
   "outputs": [
    {
     "name": "stderr",
     "output_type": "stream",
     "text": [
      "  0%|          | 0/6 [00:00<?, ?it/s]"
     ]
    },
    {
     "name": "stdout",
     "output_type": "stream",
     "text": [
      "Dense run of consensus on mat with 6 samples and 7365 potential targets.\n"
     ]
    },
    {
     "name": "stderr",
     "output_type": "stream",
     "text": [
      "100%|██████████| 6/6 [00:15<00:00,  2.65s/it]\n"
     ]
    },
    {
     "data": {
      "text/html": [
       "<div>\n",
       "<style scoped>\n",
       "    .dataframe tbody tr th:only-of-type {\n",
       "        vertical-align: middle;\n",
       "    }\n",
       "\n",
       "    .dataframe tbody tr th {\n",
       "        vertical-align: top;\n",
       "    }\n",
       "\n",
       "    .dataframe thead th {\n",
       "        text-align: right;\n",
       "    }\n",
       "</style>\n",
       "<table border=\"1\" class=\"dataframe\">\n",
       "  <thead>\n",
       "    <tr style=\"text-align: right;\">\n",
       "      <th></th>\n",
       "      <th>AHR</th>\n",
       "      <th>AR</th>\n",
       "      <th>ARID2</th>\n",
       "      <th>ARID3A</th>\n",
       "      <th>ARNT</th>\n",
       "      <th>ARNTL</th>\n",
       "      <th>ASCL1</th>\n",
       "      <th>ATF1</th>\n",
       "      <th>ATF2</th>\n",
       "      <th>ATF3</th>\n",
       "      <th>...</th>\n",
       "      <th>MBD2</th>\n",
       "      <th>NR1H3</th>\n",
       "      <th>REL</th>\n",
       "      <th>SATB1</th>\n",
       "      <th>SIX5</th>\n",
       "      <th>STAT4</th>\n",
       "      <th>XBP1</th>\n",
       "      <th>ZNF24</th>\n",
       "      <th>ZNF584</th>\n",
       "      <th>GLI2</th>\n",
       "    </tr>\n",
       "  </thead>\n",
       "  <tbody>\n",
       "    <tr>\n",
       "      <th>B cells naive</th>\n",
       "      <td>0.031474</td>\n",
       "      <td>-1.874693</td>\n",
       "      <td>0.085992</td>\n",
       "      <td>-0.512972</td>\n",
       "      <td>-0.304073</td>\n",
       "      <td>-0.265417</td>\n",
       "      <td>0.089739</td>\n",
       "      <td>-0.080568</td>\n",
       "      <td>-1.187490</td>\n",
       "      <td>0.321444</td>\n",
       "      <td>...</td>\n",
       "      <td>NaN</td>\n",
       "      <td>NaN</td>\n",
       "      <td>NaN</td>\n",
       "      <td>NaN</td>\n",
       "      <td>NaN</td>\n",
       "      <td>NaN</td>\n",
       "      <td>NaN</td>\n",
       "      <td>NaN</td>\n",
       "      <td>NaN</td>\n",
       "      <td>NaN</td>\n",
       "    </tr>\n",
       "    <tr>\n",
       "      <th>Dendritic cells</th>\n",
       "      <td>NaN</td>\n",
       "      <td>0.575204</td>\n",
       "      <td>NaN</td>\n",
       "      <td>NaN</td>\n",
       "      <td>NaN</td>\n",
       "      <td>NaN</td>\n",
       "      <td>NaN</td>\n",
       "      <td>-0.536555</td>\n",
       "      <td>-0.066068</td>\n",
       "      <td>1.831086</td>\n",
       "      <td>...</td>\n",
       "      <td>NaN</td>\n",
       "      <td>NaN</td>\n",
       "      <td>NaN</td>\n",
       "      <td>NaN</td>\n",
       "      <td>NaN</td>\n",
       "      <td>NaN</td>\n",
       "      <td>NaN</td>\n",
       "      <td>NaN</td>\n",
       "      <td>NaN</td>\n",
       "      <td>NaN</td>\n",
       "    </tr>\n",
       "    <tr>\n",
       "      <th>Monocytes</th>\n",
       "      <td>1.053624</td>\n",
       "      <td>-0.208005</td>\n",
       "      <td>-0.253507</td>\n",
       "      <td>-0.138919</td>\n",
       "      <td>0.275354</td>\n",
       "      <td>-1.487671</td>\n",
       "      <td>0.005168</td>\n",
       "      <td>-0.902947</td>\n",
       "      <td>-1.665724</td>\n",
       "      <td>-0.833085</td>\n",
       "      <td>...</td>\n",
       "      <td>1.48671</td>\n",
       "      <td>-1.405365</td>\n",
       "      <td>-2.109751</td>\n",
       "      <td>0.368820</td>\n",
       "      <td>-0.777215</td>\n",
       "      <td>-0.357929</td>\n",
       "      <td>0.360476</td>\n",
       "      <td>-0.745535</td>\n",
       "      <td>0.931408</td>\n",
       "      <td>NaN</td>\n",
       "    </tr>\n",
       "    <tr>\n",
       "      <th>NK cells</th>\n",
       "      <td>-0.607836</td>\n",
       "      <td>-0.280057</td>\n",
       "      <td>0.221970</td>\n",
       "      <td>1.965002</td>\n",
       "      <td>0.107957</td>\n",
       "      <td>-0.975919</td>\n",
       "      <td>-0.359244</td>\n",
       "      <td>-0.598909</td>\n",
       "      <td>-2.545620</td>\n",
       "      <td>-0.470132</td>\n",
       "      <td>...</td>\n",
       "      <td>NaN</td>\n",
       "      <td>NaN</td>\n",
       "      <td>-2.684497</td>\n",
       "      <td>-0.479819</td>\n",
       "      <td>NaN</td>\n",
       "      <td>-0.244796</td>\n",
       "      <td>NaN</td>\n",
       "      <td>NaN</td>\n",
       "      <td>NaN</td>\n",
       "      <td>NaN</td>\n",
       "    </tr>\n",
       "    <tr>\n",
       "      <th>Neutrophils</th>\n",
       "      <td>-0.236007</td>\n",
       "      <td>1.558825</td>\n",
       "      <td>-1.686924</td>\n",
       "      <td>NaN</td>\n",
       "      <td>-0.595450</td>\n",
       "      <td>NaN</td>\n",
       "      <td>NaN</td>\n",
       "      <td>0.057053</td>\n",
       "      <td>-1.397265</td>\n",
       "      <td>0.796708</td>\n",
       "      <td>...</td>\n",
       "      <td>NaN</td>\n",
       "      <td>NaN</td>\n",
       "      <td>-1.150439</td>\n",
       "      <td>NaN</td>\n",
       "      <td>NaN</td>\n",
       "      <td>NaN</td>\n",
       "      <td>NaN</td>\n",
       "      <td>NaN</td>\n",
       "      <td>NaN</td>\n",
       "      <td>NaN</td>\n",
       "    </tr>\n",
       "    <tr>\n",
       "      <th>T cells</th>\n",
       "      <td>-0.169019</td>\n",
       "      <td>0.632486</td>\n",
       "      <td>-1.408432</td>\n",
       "      <td>0.869183</td>\n",
       "      <td>0.715140</td>\n",
       "      <td>-1.560566</td>\n",
       "      <td>-0.588542</td>\n",
       "      <td>-0.877983</td>\n",
       "      <td>-2.675884</td>\n",
       "      <td>-0.294725</td>\n",
       "      <td>...</td>\n",
       "      <td>NaN</td>\n",
       "      <td>NaN</td>\n",
       "      <td>NaN</td>\n",
       "      <td>-0.798029</td>\n",
       "      <td>NaN</td>\n",
       "      <td>0.160358</td>\n",
       "      <td>0.701955</td>\n",
       "      <td>NaN</td>\n",
       "      <td>NaN</td>\n",
       "      <td>-0.3972</td>\n",
       "    </tr>\n",
       "  </tbody>\n",
       "</table>\n",
       "<p>6 rows × 271 columns</p>\n",
       "</div>"
      ],
      "text/plain": [
       "                      AHR        AR     ARID2    ARID3A      ARNT     ARNTL  \\\n",
       "B cells naive    0.031474 -1.874693  0.085992 -0.512972 -0.304073 -0.265417   \n",
       "Dendritic cells       NaN  0.575204       NaN       NaN       NaN       NaN   \n",
       "Monocytes        1.053624 -0.208005 -0.253507 -0.138919  0.275354 -1.487671   \n",
       "NK cells        -0.607836 -0.280057  0.221970  1.965002  0.107957 -0.975919   \n",
       "Neutrophils     -0.236007  1.558825 -1.686924       NaN -0.595450       NaN   \n",
       "T cells         -0.169019  0.632486 -1.408432  0.869183  0.715140 -1.560566   \n",
       "\n",
       "                    ASCL1      ATF1      ATF2      ATF3  ...     MBD2  \\\n",
       "B cells naive    0.089739 -0.080568 -1.187490  0.321444  ...      NaN   \n",
       "Dendritic cells       NaN -0.536555 -0.066068  1.831086  ...      NaN   \n",
       "Monocytes        0.005168 -0.902947 -1.665724 -0.833085  ...  1.48671   \n",
       "NK cells        -0.359244 -0.598909 -2.545620 -0.470132  ...      NaN   \n",
       "Neutrophils           NaN  0.057053 -1.397265  0.796708  ...      NaN   \n",
       "T cells         -0.588542 -0.877983 -2.675884 -0.294725  ...      NaN   \n",
       "\n",
       "                    NR1H3       REL     SATB1      SIX5     STAT4      XBP1  \\\n",
       "B cells naive         NaN       NaN       NaN       NaN       NaN       NaN   \n",
       "Dendritic cells       NaN       NaN       NaN       NaN       NaN       NaN   \n",
       "Monocytes       -1.405365 -2.109751  0.368820 -0.777215 -0.357929  0.360476   \n",
       "NK cells              NaN -2.684497 -0.479819       NaN -0.244796       NaN   \n",
       "Neutrophils           NaN -1.150439       NaN       NaN       NaN       NaN   \n",
       "T cells               NaN       NaN -0.798029       NaN  0.160358  0.701955   \n",
       "\n",
       "                    ZNF24    ZNF584    GLI2  \n",
       "B cells naive         NaN       NaN     NaN  \n",
       "Dendritic cells       NaN       NaN     NaN  \n",
       "Monocytes       -0.745535  0.931408     NaN  \n",
       "NK cells              NaN       NaN     NaN  \n",
       "Neutrophils           NaN       NaN     NaN  \n",
       "T cells               NaN       NaN -0.3972  \n",
       "\n",
       "[6 rows x 271 columns]"
      ]
     },
     "execution_count": 35,
     "metadata": {},
     "output_type": "execute_result"
    }
   ],
   "source": [
    "tf_acts, tf_pvals = dc.dense_run(dc.run_consensus, mat=logFCs, net=dorothea, verbose=True)\n",
    "tf_acts"
   ]
  },
  {
   "cell_type": "code",
   "execution_count": 36,
   "id": "bf547cf8-c585-4de6-a21f-db99a8e7ea6f",
   "metadata": {},
   "outputs": [
    {
     "data": {
      "image/png": "[encoded data removed]",
      "text/plain": [
       "<Figure size 720x720 with 4 Axes>"
      ]
     },
     "metadata": {
      "needs_background": "light"
     },
     "output_type": "display_data"
    }
   ],
   "source": [
    "plot_topheat(tf_acts)"
   ]
  },
  {
   "cell_type": "markdown",
   "id": "4a3e0f33-8a41-4a03-a859-1c2aa6bed7bd",
   "metadata": {},
   "source": [
    "This looks much more consistent with what we saw with Cytokine activities and MSigDB!"
   ]
  },
  {
   "cell_type": "code",
   "execution_count": null,
   "id": "41744c75-bbc8-40eb-8494-fcbe749ecd57",
   "metadata": {},
   "outputs": [],
   "source": []
  },
  {
   "cell_type": "markdown",
   "id": "80140337-dc06-479a-b68e-f3d61ad40ad5",
   "metadata": {},
   "source": [
    "D) The signal now is much clearer and this is great! Right? :)\n",
    "\n",
    "However, one could also ask themselves:\n",
    "\"Is it fair to pick the method that fits best your assumptions? Is this not biased?\"\n",
    "\n",
    "What do you think?"
   ]
  },
  {
   "cell_type": "code",
   "execution_count": null,
   "id": "d0e687de-4cbf-4c16-8533-c93e72b2ef6e",
   "metadata": {},
   "outputs": [],
   "source": []
  }
 ],
 "metadata": {
  "kernelspec": {
   "display_name": "scanpy",
   "language": "python",
   "name": "scanpy"
  },
  "language_info": {
   "codemirror_mode": {
    "name": "ipython",
    "version": 3
   },
   "file_extension": ".py",
   "mimetype": "text/x-python",
   "name": "python",
   "nbconvert_exporter": "python",
   "pygments_lexer": "ipython3",
   "version": "3.8.8"
  }
 },
 "nbformat": 4,
 "nbformat_minor": 5
}
